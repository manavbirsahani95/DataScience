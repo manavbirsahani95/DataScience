{
 "cells": [
  {
   "cell_type": "markdown",
   "metadata": {
    "colab_type": "text",
    "id": "g8h8q2vZlZj2"
   },
   "source": [
    "# COGS 108 - Project Proposal"
   ]
  },
  {
   "cell_type": "markdown",
   "metadata": {
    "colab_type": "text",
    "id": "8XQBP05GlZj3"
   },
   "source": [
    "## Important\n",
    "\n",
    "- Make sure all group members (3-5 people) are listed in the group members section.\n",
    "- ONE, and only one, member of your group should upload this notebook to TritonED. \n",
    "- Each member of the group will receive the same grade on this assignment. \n",
    "- Keep the file name the same: submit the file 'ProjectProposal.ipynb'"
   ]
  },
  {
   "cell_type": "markdown",
   "metadata": {
    "colab_type": "text",
    "id": "gnTLUgWOlZj4"
   },
   "source": [
    "## Overview"
   ]
  },
  {
   "cell_type": "markdown",
   "metadata": {
    "colab_type": "text",
    "id": "wK4vvlnAlZj5"
   },
   "source": [
    "Read the project description and detailed instructions for this assignment in the 'ProjectOutline' document."
   ]
  },
  {
   "cell_type": "markdown",
   "metadata": {
    "colab_type": "text",
    "id": "M_Vs0mGrlZj6"
   },
   "source": [
    "## Group Members: Fill in the Student IDs of each group member here\n",
    "\n",
    "Replace the lines below to list each persons full student ID. Add lines as needed for your group size, and make sure each ID is listed on a separate line. \n",
    "\n",
    "- A15084019 - Ganesh Valliappan\n",
    "- A91028407 - Manavbir Sahani\n",
    "- A92089162 - Tsz Ho Hui\n",
    "- A14012032 - Shengzhi Wang\n",
    "- A15370732 - Sheng Jie Yu\n",
    "- A14385008 - Zebang Liu"
   ]
  },
  {
   "cell_type": "markdown",
   "metadata": {
    "colab_type": "text",
    "id": "GVExP_zrlZj7"
   },
   "source": [
    "### Research Question\n",
    "\n",
    "What is your research question? (1-2 sentences)"
   ]
  },
  {
   "cell_type": "markdown",
   "metadata": {
    "colab_type": "text",
    "id": "VAYnZxGDlZj8"
   },
   "source": [
    "Do American television shows (e.g. South Park, Futurama, etc) have an impact on the political climate in america?\n"
   ]
  },
  {
   "cell_type": "markdown",
   "metadata": {
    "colab_type": "text",
    "id": "mouigS3FlZj9"
   },
   "source": [
    "### Hypothesis\n",
    "\n",
    "What is your main hypothesis and predictions? (2-3 sentences)"
   ]
  },
  {
   "cell_type": "markdown",
   "metadata": {
    "colab_type": "text",
    "id": "CNCnvfHZlZj-"
   },
   "source": [
    "We hypothesize that there will be a positive correlation between the displayed political sentiments in television shows, and the political climate in america,( i.e. positive political sentiments in the show towards a candidate improve public perception of that candidate and vice versa.)\n",
    "\n",
    "Elaboration on our hypothesis: \n",
    "It is directly correlated\n",
    "- *Sentiment analysis of the lines said by South Park characters will correlate to ratings of candidates in the presidential elections*\n",
    "- *Sentiment analysis of the lines about certain South Park characters will correlate to the outcomes of the presidential elections*\n",
    "- *The frequency and line length of certain South Park characters will correlate to the ratings in the polls and the outcomes of the elections*"
   ]
  },
  {
   "cell_type": "markdown",
   "metadata": {
    "colab_type": "text",
    "id": "also5D_SlZj-"
   },
   "source": [
    "### Dataset(s)\n",
    "\n",
    "What data will you use to answer your question? Describe the dataset(s) in terms of number of observations, what kind of features it contains, etc. You must use at least one dataset containing at least approximately 1000 observations (if your data are smaller but you feel they are sufficient, email Prof. Voytek). You are welcome (and in fact recommended) to find multiple datasets! If you do so, describe each one, and briefly explain how you will combine them together. "
   ]
  },
  {
   "cell_type": "markdown",
   "metadata": {
    "colab_type": "text",
    "id": "r1UhQYdclZj_"
   },
   "source": [
    "- Dataset Name: South Park Script Data\n",
    "- Link to the dataset: https://github.com/BobAdamsEE/SouthParkData\n",
    "- Number of observations: ~70,000 lines\n",
    "\n",
    "*This is the data of the lines in the South Park script for 20 seasons that will be analyzed to test the hypothesis and answer the research question.*\n",
    "\n",
    "- Dataset Name: US Political Party Strength\n",
    "- Link to the dataset: https://en.wikipedia.org/wiki/Political_party_strength_in_U.S._states\n",
    "- Number of observations: ~100 entries\n",
    "\n",
    "*This contains data of how party strength changed over years. This can be used in relation to how sentiments on parties have been changing over South Park seasons.*\n",
    "\n",
    "- Dataset Name: US Election Results by Precinct\n",
    "- Link to the dataset: https://catalog.data.gov/dataset/2016-general-election-results-by-precinct-complete-ecanvass-dataset\n",
    "- Number of observations: ~340,000 entries\n",
    "\n",
    "*This contains data about US preidential election results by precincts. This can be used to see if specific precincts that had been historically leaning towards one political party had voted for the other party.*\n",
    "\n",
    "- Dataset Name: Presidential Approval Ratings\n",
    "- Link to the dataset: http://www.presidency.ucsb.edu/data/popularity.php\n",
    "- Number of observations: ~1,200 entries\n",
    "\n",
    "*This contains data about the presidential approval ratings over time, taken roughly around once a week for each presidential term. This can be used to see if the South Park lines predict increases or decreases in the presidential approval ratings.*\n",
    "\n",
    "- Dataset Name: Presidential Candidates Ratings\n",
    "- Link to the dataset: https://realclearpolitics.com/epolls/latest_polls/president/\n",
    "- Number of observations: ~1,200 entries\n",
    "*This contains data about the presidential approval ratings over time, taken roughly around once a day for each presidential election. This can be used to see if the South Park lines predict increases or decreases in the presidential candidates' approval ratings.*\n",
    "\n",
    "- Dataset Name: 2014 Generic Congressional Vote\n",
    "- Link to the dataset: https://www.realclearpolitics.com/epolls/other/generic_congressional_vote-2170.html\n",
    "- Number of observations: ~200 entries\n",
    "*This contains data about the presidential approval ratings over time, taken roughly around once a day for the 2012 midterm election. This can be used to see if the South Park lines predict increases or decreases in the presidential candidates' approval ratings.*\n",
    "\n",
    "- Dataset Name: General Election: Romney vs. Obama\n",
    "- Link to the dataset: https://www.realclearpolitics.com/epolls/2012/president/us/general_election_romney_vs_obama-1171.html\n",
    "- Number of observations: ~300 entries\n",
    "*This contains data about the presidential approval ratings over time, taken roughly around once a day for the 2012 presidential election. This can be used to see if the South Park lines predict increases or decreases in the presidential candidates' approval ratings.*"
   ]
  },
  {
   "cell_type": "markdown",
   "metadata": {
    "colab_type": "text",
    "id": "5VIQW6E6lZkA"
   },
   "source": [
    "### Background and Prior Work\n",
    "\n",
    "Why is this question of interest, what background information led you to your hypothesis, and why is this important?\n",
    "\n",
    "Find some relevant prior work, and reference those sources. Even if you think you have a totally novel question, find the most similar prior work that you can and discuss how it relates to your project. \n",
    "\n",
    "References can be research publications, but they need not be. Blogs, github repositories, company websites, etc., are all viable references if they are relevant to your project.\n",
    "\n",
    "(2-3 paragraphs, including at least 2 references)"
   ]
  },
  {
   "cell_type": "markdown",
   "metadata": {
    "colab_type": "text",
    "id": "c7smswtqlZkB"
   },
   "source": [
    "We came aross studies showing how facebook's algorithms of personalization, and engagement on media platforms end up filtering out viewpoints that are different then their own. This led to the formation of echo-chambers, and made people think their view is the global one. For example, the anti-Republican people believed that Donald Trump would never win, and that had a susbstantial influence on voting. This was our first discovery of how media influences people's political beliefs.\n",
    "\n",
    "We also discovered that television shows are a reflection of the current cultural, social, political state of the society at any given moment. This made us consider that it might be the other way around! Since studies have shown what a tremendous impact media platforms like facebook can have on the political climate, then perhaps television is not a reflection of the political environment, but ACTUALLY SHAPES THE FUTURE! In other words, it causes the real world to reflect the cultural, social, and political state of society displayed in the show.\n",
    "\n",
    "We have learnt about how television catches people's attention for several hours everyday, and how it has a tremendous impact on how people develop ideas about the world around them, we formed our research question on one of the most prominent use of television,(i.e TV shows,) and their impact on shaping American political climate. This drove our question: is there a correlation between the sentiments that television shows display about certain politicians and the way people vote?\n",
    "References (include links):\n",
    "- 1) http://onlinelibrary.wiley.com/doi/10.1111/npqu.11519/epdf\n",
    "- 2) https://www.encyclopedia.com/arts/news-wires-white-papers-and-books/televisions-impact-american-society-and-culture\n",
    "- 3) https://people.howstuffworks.com/culture-traditions/tv-and-culture/advent-of-television-impact-politics.htm\n",
    "- 4) https://www.huffingtonpost.com/entry/trump-political-dramas_us_592cff26e4b0df57cbfcf211\n",
    "- 4) http://onlinelibrary.wiley.com/doi/10.1002/poi3.88/full\n"
   ]
  },
  {
   "cell_type": "markdown",
   "metadata": {
    "colab_type": "text",
    "id": "wR_OEYUelZkC"
   },
   "source": [
    "### Proposed Methods\n",
    "\n",
    "What methods will you use to analyze your data?\n",
    "\n",
    "- How 'clean' is the data? To the extent that it requires cleaning, how will you do so?\n",
    "- How will you analyze the data? Be as specific as you can. Briefly mention any pre-processing steps that are required for your methods (for example, checking data distributions and performing any transformations that may be required). Include a brief outline of how you will apply your chosen method(s). \n",
    "- What do you plan to report? Briefly mention any key visualizations you plan to create, and/or the kind of results you will be able to report that address your question (this could be, for example, the outcome of some statistical test(s), prediction error on a model, a model fit parameter, etc.).\n",
    "- Include a list of packages you expect to use for you project. If you plan to use packages we have not used in class, add a very brief description about them (a few words is sufficient). "
   ]
  },
  {
   "cell_type": "markdown",
   "metadata": {
    "colab_type": "text",
    "id": "VplJ7VRulZkD"
   },
   "source": [
    "*Fill in your proposed methods information here:*\n",
    "\n",
    "**Data Cleaning (1-2 sentences)**\n",
    "\n",
    "*The script data is already split apart by character, but it needs to be further cleaned to find the lines relating to the specific characters that represent American presidential candidates. This can be done by searching for a character's name as well as uses of personal nouns (him, her, he, she, etc.) after the character's name.*\n",
    "\n",
    "**Data Analysis (1-2 paragraphs)**\n",
    "\n",
    "*There are two different sentiment analysis to do on the script data. The first is a sentiment analysis on the characters that South Park uses to represent real-life presidential candidates to see if the characters change their sentiments over time (e.g. Mr. Garrison, the character that represents President Trump, was initially positive about his campaign, then turns negative because he does not want to win). The second is a sentiment analysis on the lines that refer to those specific characters, to see if the general opinion of those characters shift or stay the same over time.*\n",
    "\n",
    "*The presidential candidates' approval ratings as well as the president's approval ratings can be compared to the sentiments about their respective characters in South Park to check if South Park had been able to predict decreases or increases in those ratings using the results of the sentiment anlysis. Moreover, other interesting correlations can be explored, like the frequency, length, or time of a character's appearence per episode had affected the ratings of the people they represent.*\n",
    "\n",
    "\n",
    "\n",
    "**What to report (2-3 sentences)**\n",
    "*We plan to report graphs that show correlations between the sentiments of a character and a candidate's or president's approval ratings, as well as showing how those change over time. There will also be graphs of frequency, length, and time of characters' appearances versus their respective people's approval ratings. There may also be a model that predicts future approval ratings using current South Park sentiments of certain characters.*\n",
    "\n",
    "**Packages we plan to use:**\n",
    "- numpy\n",
    "- matplotlib\n",
    "- pandas\n",
    "- math\n",
    "- textblob (https://pypi.python.org/pypi/textblob) - sentiment analysis"
   ]
  },
  {
   "cell_type": "markdown",
   "metadata": {
    "colab_type": "text",
    "id": "elgk7nUllZkE"
   },
   "source": [
    "### Ethics and Privacy\n",
    "\n",
    "Briefly acknowledge and address any potential issues of ethics and privacy for the proposed project. In particular:\n",
    "- Do you have permission to use this data, for this purpose?\n",
    "- Are there privacy concerns regarding your datasets that you need to deal with, and/or terms of use that you need to comply with?\n",
    "- Are there potential biases in your dataset(s), in terms of who it composes, and how it was collected, that may be problematic in terms of it allowing for equitable analysis? (For example, does your data exclude particular populations, or is it likely to reflect particular human biases in a way that could be a problem?) \n",
    "- Are there any other issues related to your topic area, data, and/or analyses that are potentially problematic in terms of data privacy and equitable impact?\n",
    "- How will you handle any issues you identify?\n",
    "\n",
    "(1-2 paragraphs)\n",
    "\n",
    "Using a 'script' from a popular TV show for research purposes in a machine learning algorithm is allowed within the 'fair use' description of copyright. It is our understanding that the following descriptions place the usage described within 'fair use':\n",
    "\n",
    "Amount and substantiality of the portion used in relation to the copyrighted work as a whole.\n",
    "\n",
    "Since we are using the script, not the video and audio, to test our hypothesis, and we are also not reproducing it for our audience, our research is protected under fair use.\n",
    "\n",
    "Effect of the use upon the potential market for or value of the copyrighted work :\n",
    "\n",
    "Using a script to test our hypothesis would have virtually no effect on the 'potential market or value of copyrighted work'.\n",
    ". Section 107 of the Copyright Act provides the statutory framework for determining whether something is a fair use and identifies certain types of uses—such as criticism, comment, news reporting, teaching, scholarship, and research—as examples of activities that may qualify as fair use.\n",
    "\n",
    "There are potential biases in the data since dialogues of TV shows are written by screenwriters of those TV shows; the dialogues might reflect the political leaning of the writers and the tone of the shows. However, a point can be made that shows like South Park tend to poke fun at both sides of the political spectrum, therefore giving plenty of data (both positive and negative) on each candidate for us to work with. Since our topic concerns politics, there will always be biases, but political biases are in fact what we are trying to study here, as we want to examine the political impact of satire TV shows and how they bias people's feelings about certain political figure or ideology. Therefore, biases in dialogues are not big issues here. Other data we use in this research are poll numbers. Different institutions do polls and often get different numbers throughout the years. Poll numbers might not be an accurate representation of popularity. For example, in the 2016 election, Donald Trump won over Hillary Clinton despite poll numbers favoring Clinton. One thing we can do is to take the average of different polls to best reflect actual feelings of voters."
   ]
  },
  {
   "cell_type": "markdown",
   "metadata": {
    "colab_type": "text",
    "id": "4DLnXRMYlZkE"
   },
   "source": [
    "### Discussion\n",
    "\n",
    "Discuss your project, looking forward to what your results might mean, how they fit it in with what is already known, and what problems you may encounter. \n",
    "\n",
    "In particular:\n",
    "- If your analyses and hypotheses are correct, what will be the contribution of this project to the topic domain? \n",
    "- Alternatively, what will you do if you methods don't work and/or your hypotheses are wrong? \n",
    "- What are the potential pitfalls and potential confounds of your data and/or methods that may cause problems, and/or influence your interpretations?\n",
    "\n",
    "(2-3 paragraphs)"
   ]
  },
  {
   "cell_type": "markdown",
   "metadata": {
    "colab_type": "text",
    "id": "1x8gGeR1lZkF"
   },
   "source": [
    "*If our hypotheses is true, and our analysis is correct, it will be a groundbreaking finding on how TV shows, and media, can determine the future of our country. There may be a correlation between the interpretation of the political landscape and society by show producers in satirical political cartoons and the results of real world elections. Additionally, there may be indication that political cartoons may in fact influence the opinions of viewer and would therefore (if the audience size and the discussions generated is large enough) influenece election results.* This means that just like advertisements potray brands, there can be a separate form of subconsicous marketing used in these television shows, judging from the high impact they have. \n",
    "\n",
    "*If the hypothesis is wrong, it could show that political satire cartoons has little immediate effect on the political landscape. Alternatively, it could show that the show's producers are not astute in reading the political landscape and the cartoons do not accurately reflect real world politics.*\n",
    "\n",
    "One pitfall in our study is the lack of variety of samples in our data. We are just looking at a couple of shows, and talking in general about all shows. There should be further work performed to test this hypothesis for a larger, and more varied dataset. "
   ]
  }
 ],
 "metadata": {
  "colab": {
   "collapsed_sections": [],
   "default_view": {},
   "name": "ProjectProposal.ipynb",
   "provenance": [],
   "version": "0.3.2",
   "views": {}
  },
  "kernelspec": {
   "display_name": "Python 3",
   "language": "python",
   "name": "python3"
  },
  "language_info": {
   "codemirror_mode": {
    "name": "ipython",
    "version": 3
   },
   "file_extension": ".py",
   "mimetype": "text/x-python",
   "name": "python",
   "nbconvert_exporter": "python",
   "pygments_lexer": "ipython3",
   "version": "3.6.3"
  }
 },
 "nbformat": 4,
 "nbformat_minor": 1
}
