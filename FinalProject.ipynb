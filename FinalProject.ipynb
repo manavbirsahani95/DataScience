{
  "nbformat": 4,
  "nbformat_minor": 0,
  "metadata": {
    "colab": {
      "name": "FinalProject.ipynb",
      "version": "0.3.2",
      "views": {},
      "default_view": {},
      "provenance": [],
      "collapsed_sections": []
    },
    "kernelspec": {
      "name": "python3",
      "display_name": "Python 3"
    },
    "accelerator": "GPU"
  },
  "cells": [
    {
      "metadata": {
        "id": "ffX8jHTK_mvG",
        "colab_type": "text"
      },
      "cell_type": "markdown",
      "source": [
        "GROUP MEMBERS :\n",
        "- A91028407 - Manavbir Sahani, Data Analyzer & Communicator\n",
        "- A15084019 - Ganesh Valliappan, Data Scraper & Analyzer\n",
        "- A92089162 - Tsz Ho Hui, Data Scraper\n",
        "- A14012032 - Shengzhi Wang, Data Visualizer\n",
        "- A15370732 - Sheng Jie Yu, Data Analyzer\n",
        "- A14385008 - Zebang Liu, Data Analyzer\n",
        "\n",
        "---"
      ]
    },
    {
      "metadata": {
        "id": "nc7yCoqPBqkO",
        "colab_type": "text"
      },
      "cell_type": "markdown",
      "source": [
        "\n",
        "# **0. Imports that Allow Our Programs to Work and Look Beautiful:**"
      ]
    },
    {
      "metadata": {
        "id": "_ebLKotiZ03C",
        "colab_type": "code",
        "colab": {
          "autoexec": {
            "startup": false,
            "wait_interval": 0
          },
          "output_extras": [
            {
              "item_id": 21
            },
            {
              "item_id": 22
            }
          ],
          "base_uri": "https://localhost:8080/",
          "height": 568
        },
        "outputId": "65dfdb8b-4a1e-4791-a9c4-993520f9cca2",
        "executionInfo": {
          "status": "ok",
          "timestamp": 1521779048248,
          "user_tz": 420,
          "elapsed": 15163,
          "user": {
            "displayName": "Manav Sahani",
            "photoUrl": "//lh5.googleusercontent.com/-OuY4PVl0W6s/AAAAAAAAAAI/AAAAAAAAAA0/47Nb7lg-NuQ/s50-c-k-no/photo.jpg",
            "userId": "104287893514495967247"
          }
        }
      },
      "cell_type": "code",
      "source": [
        "%matplotlib inline\n",
        "!pip install textblob bs4\n",
        "!mkdir nltk_data\n",
        "!python -m textblob.download_corpora\n",
        "# !python -m nltk.downloader -d nltk_data stopword\n",
        "!pwd\n",
        "\n",
        "import warnings; warnings.simplefilter('ignore')\n",
        "import pandas as pd\n",
        "import numpy as np\n",
        "import matplotlib.pyplot as plt\n",
        "import requests\n",
        "import io\n",
        "import re\n",
        "\n",
        "import patsy\n",
        "import statsmodels.api as sm\n",
        "import scipy.stats as stats\n",
        "from scipy.stats import ttest_ind, chisquare, normaltest\n",
        "\n",
        "from pylab import rcParams\n",
        "rcParams['figure.figsize'] = 12, 8\n",
        "plt.style.use('fivethirtyeight')\n",
        "\n",
        "from collections import Counter\n",
        "from datetime import datetime\n",
        "from bs4 import BeautifulSoup\n",
        "from random import *\n",
        "\n",
        "\n",
        "import nltk\n",
        "from nltk.corpus import webtext\n",
        "from nltk.corpus import nps_chat\n",
        "from nltk.corpus import movie_reviews\n",
        "from nltk.corpus import stopwords\n",
        "\n",
        "from textblob import TextBlob\n",
        "from textblob.sentiments import NaiveBayesAnalyzer\n",
        "\n",
        "nltk.download('stopwords')"
      ],
      "execution_count": 1,
      "outputs": [
        {
          "output_type": "stream",
          "text": [
            "Collecting textblob\n",
            "  Downloading textblob-0.15.1-py2.py3-none-any.whl (631kB)\n",
            "\u001b[K    100% |████████████████████████████████| 634kB 1.5MB/s \n",
            "\u001b[?25hCollecting bs4\n",
            "  Downloading bs4-0.0.1.tar.gz\n",
            "Requirement already satisfied: nltk>=3.1 in /usr/local/lib/python3.6/dist-packages (from textblob)\n",
            "Requirement already satisfied: beautifulsoup4 in /usr/local/lib/python3.6/dist-packages (from bs4)\n",
            "Building wheels for collected packages: bs4\n",
            "  Running setup.py bdist_wheel for bs4 ... \u001b[?25l-\b \bdone\n",
            "\u001b[?25h  Stored in directory: /content/.cache/pip/wheels/84/67/d4/9e09d9d5adede2ee1c7b7e8775ba3fbb04d07c4f946f0e4f11\n",
            "Successfully built bs4\n",
            "Installing collected packages: textblob, bs4\n",
            "Successfully installed bs4-0.0.1 textblob-0.15.1\n",
            "[nltk_data] Downloading package brown to /content/nltk_data...\n",
            "[nltk_data]   Unzipping corpora/brown.zip.\n",
            "[nltk_data] Downloading package punkt to /content/nltk_data...\n",
            "[nltk_data]   Unzipping tokenizers/punkt.zip.\n",
            "[nltk_data] Downloading package wordnet to /content/nltk_data...\n",
            "[nltk_data]   Unzipping corpora/wordnet.zip.\n",
            "[nltk_data] Downloading package averaged_perceptron_tagger to\n",
            "[nltk_data]     /content/nltk_data...\n",
            "[nltk_data]   Unzipping taggers/averaged_perceptron_tagger.zip.\n",
            "[nltk_data] Downloading package conll2000 to /content/nltk_data...\n",
            "[nltk_data]   Unzipping corpora/conll2000.zip.\n",
            "[nltk_data] Downloading package movie_reviews to /content/nltk_data...\n",
            "[nltk_data]   Unzipping corpora/movie_reviews.zip.\n",
            "Finished.\n",
            "/content\n",
            "[nltk_data] Downloading package stopwords to /content/nltk_data...\n",
            "[nltk_data]   Unzipping corpora/stopwords.zip.\n"
          ],
          "name": "stdout"
        },
        {
          "output_type": "execute_result",
          "data": {
            "text/plain": [
              "True"
            ]
          },
          "metadata": {
            "tags": []
          },
          "execution_count": 1
        }
      ]
    },
    {
      "metadata": {
        "id": "nupz9J4f_jhO",
        "colab_type": "text"
      },
      "cell_type": "markdown",
      "source": [
        "# **1. Introduction and background :**\n",
        "\n",
        "There were recent studies showing how facebook's personalization algorithms and engagement on media platforms end up filtering out people's viewpoints that are different from each user's own opnions. This practice led to the formation of echo-chambers and made people think their view is universally accepted. For example, the anti-Republican voters were led to think that Donald Trump would never win, and that had a susbstantial influence on voting. This was our first discovery of how media influences people's political beliefs.\n",
        "\n",
        "We also discovered that television shows are a constant reflection of the current cultural, social, political state of the society at any given moment. This made us consider that there could be correlation. Since studies have shown what a tremendous impact media platforms like facebook can have on the political climate, then perhaps there is a possibility that television is not only a reflection of the political environment, but also can effect our opinions on politics. In other words, it can affect the way the real world's cultural, social, and political state of society.\n",
        "\n",
        "We have learned about how television catches people's attention for several hours everyday, and how it has a tremendous impact on how people develop ideas about the world around them. We formed our research question on one of the most prominent use of television,(i.e TV shows) and their impact on shaping the American political climate. This drove us to the following question :<i> is there a correlation between the sentiments that television shows display about certain politicians and the way people's opinions change based on polling data? </i>\n",
        "\n",
        "\n",
        "**Research question :** </p>\n",
        "Do American television shows (e.g. South Park, Futurama, etc) have an impact on the political climate in america?\n",
        "<br> <br>\n",
        "**Hypothesis :** </p>\n",
        "We hypothesize that there will be a positive correlation between the displayed political sentiments in television shows, and the political climate in America (i.e. positive political sentiments in the show towards a candidate improve public perception(measured by the change in poll results before and after the episode) of that candidate and vice versa.)\n",
        "\n",
        "\n",
        "References (include links):\n",
        "- 1) http://onlinelibrary.wiley.com/doi/10.1111/npqu.11519/epdf\n",
        "- 2) https://www.encyclopedia.com/arts/news-wires-white-papers-and-books/televisions-impact-american-society-and-culture\n",
        "- 3) https://people.howstuffworks.com/culture-traditions/tv-and-culture/advent-of-television-impact-politics.htm\n",
        "- 4) https://www.huffingtonpost.com/entry/trump-political-dramas_us_592cff26e4b0df57cbfcf211\n",
        "- 4) http://onlinelibrary.wiley.com/doi/10.1002/poi3.88/full\n"
      ]
    },
    {
      "metadata": {
        "id": "oiZQsVO9HUWt",
        "colab_type": "text"
      },
      "cell_type": "markdown",
      "source": [
        "# **2. Data Description :**\n",
        "<br> What data are we using?\n",
        "1. We are using the scripts of episodes of SouthPark from season 1 to season 21 from  http://southpark.wikia.com . That's 287 episodes, and 76,000 lines of data.\n",
        "2. We are using the airdates of Southpark episodes from IMDB.\n",
        "3. We are using the weekly poll results from 1997 to present day, that has beem gathered by the University of Califonia, Santa Barbara through Gallup poles.\n",
        "\n",
        "How are we getting this data?\n",
        "\n",
        "Southpark episodes, airdates, and weekly poll results have been scrapped from the web.<br>\n",
        "\n",
        "How did we combine the data we collected?\n",
        "\n",
        "Using airdates and poll end dates, we found the poll taken immediately after an episode aired and matched the poll to that episode and the corresponding rows.\n"
      ]
    },
    {
      "metadata": {
        "id": "SvjGA_V-1GC5",
        "colab_type": "text"
      },
      "cell_type": "markdown",
      "source": [
        "# **3. Data Cleaning / Pre-processing:**\n"
      ]
    },
    {
      "metadata": {
        "id": "kKQJNxWbYafd",
        "colab_type": "text"
      },
      "cell_type": "markdown",
      "source": [
        "## **South Park Data Cleaning and Processing**\n",
        "Data scrapped from http://southpark.wikia.com/wiki/Portal:Scripts"
      ]
    },
    {
      "metadata": {
        "id": "qE2yE94ikSX9",
        "colab_type": "text"
      },
      "cell_type": "markdown",
      "source": [
        "### Processing South Park Wikia\n",
        "The scripts for each episode is parsed by going through the main table given on the webpage for each episode. The main table contains two columns, the right column represents the character speaking the line and the left column is for the line spoken.\n",
        "\n",
        "| Character       | Line                                                                  |\n",
        "|:----------------|:----------------------------------------------------------------------|\n",
        "| Kyle Broflovski | Ah, damn it! My little brother's trying to follow me to school again. |\n",
        "| Ike Broflovski  | Zeeponaner.                                                           |\n",
        "| Kyle            | Ike, you can't come to school with me. *[Ike Chortles.]*              |\n",
        "|                 | *At the bus stop*                                                     |\n",
        "\n",
        "The following is done for processing:\n",
        "1. The asides (e.g. '[Ike Chortles]') are removed.\n",
        "2. Characters with shortened names (e.g. Kyle and Kyle Broflovski) have their lines under the same name.\n",
        "3. Rows where actions are written (e.g. 'At the bus stop') are removed (rows with no character cell)."
      ]
    },
    {
      "metadata": {
        "id": "vwIrTRJAdRcG",
        "colab_type": "code",
        "colab": {
          "autoexec": {
            "startup": false,
            "wait_interval": 0
          }
        }
      },
      "cell_type": "code",
      "source": [
        "# main page link\n",
        "url = \"http://southpark.wikia.com\"\n",
        "# location of all links to scripts\n",
        "portal = \"/wiki/Portal:Scripts\"\n",
        "\n",
        "def strip_season_url(link):\n",
        "  return link[link.find('/Season'):]\n",
        "\n",
        "def strip_extras(text):\n",
        "  text = re.sub(r'\\[[^\\]]*\\]', ' ', text).strip()\n",
        "  return text"
      ],
      "execution_count": 0,
      "outputs": []
    },
    {
      "metadata": {
        "id": "dkOY7pvddlPb",
        "colab_type": "text"
      },
      "cell_type": "markdown",
      "source": [
        "### Character Processing\n",
        "Processes the cast list on the Wikia page per episode and returns a list containing all the characters that appear in the episode. The characters for each line is also processed because after their first occurance, the character names are shortend (e.g. Kyle Broflovski to Kyle and Mr. Herbert Garrison to Mr. Garrison)."
      ]
    },
    {
      "metadata": {
        "id": "PBWm2EyldsKq",
        "colab_type": "code",
        "colab": {
          "autoexec": {
            "startup": false,
            "wait_interval": 0
          }
        }
      },
      "cell_type": "code",
      "source": [
        "# creates a list of the characters from the episode\n",
        "def get_characters(ul_list):\n",
        "  characters = list()\n",
        "  for li in ul_list.findAll('li'):\n",
        "    characters.append(li.get_text().strip())\n",
        "  return characters\n",
        "\n",
        "# matches a shorter character name to the full name from the episode cast\n",
        "def match_character(name, char_list):\n",
        "  subset = name.split(' ')\n",
        "  for char in char_list:\n",
        "    if set(subset).issubset(set(char.split(' '))):\n",
        "      return char\n",
        "  return name"
      ],
      "execution_count": 0,
      "outputs": []
    },
    {
      "metadata": {
        "id": "DvB6o5XsdoFF",
        "colab_type": "text"
      },
      "cell_type": "markdown",
      "source": [
        "### Episode Processing\n",
        "Processes the main table on the page, which contains two columns: 'character' and 'line'. Each row contains one line said by a character. The lines containing actions on-screen (e.g. 'At the bus stop') are removed by checking for empty character cells, but non-empty line cells. Lines that multiple characters say at the same time are split apart into two, adjacent lines."
      ]
    },
    {
      "metadata": {
        "id": "cEIHN39tdy0Q",
        "colab_type": "code",
        "colab": {
          "autoexec": {
            "startup": false,
            "wait_interval": 0
          }
        }
      },
      "cell_type": "code",
      "source": [
        "# parse the episode by getting all characters and matching lines for each character\n",
        "def parse_episode(link, season, episode):\n",
        "  # print('----------Episode:', link)\n",
        "  episode_page = BeautifulSoup(requests.get(link).content, 'html.parser')\n",
        "  script_table = episode_page.findAll('table')[1]\n",
        "  chars = get_characters(episode_page.find(id='mw-content-text').find('ul'))\n",
        "\n",
        "  # print('-------# of Lines:', len(script_table.find_all('tr')))\n",
        "  script_table = script_table.find_all('tr')[1 : -1]\n",
        "\n",
        "  temp = []\n",
        "\n",
        "  for row in script_table:\n",
        "    cell = row.contents\n",
        "    if len(cell) >= 3:\n",
        "      c = str(cell[1].text)\n",
        "      l = str(cell[2].text)\n",
        "      if not len(c) == 1 :\n",
        "        name = re.sub('[^a-zA-Z1-9 ,]', ' ', c)\n",
        "        name = re.sub('\\\\s+', ' ', name).strip()\n",
        "        stripped_line = l.strip()\n",
        "        for n in name.split(', '):\n",
        "          n = match_character(n, chars)\n",
        "          d = {}\n",
        "          d['season'] = season\n",
        "          d['episode'] = episode\n",
        "          d['character'] = n\n",
        "          d['line'] = stripped_line\n",
        "          temp.append(d)\n",
        "  return temp"
      ],
      "execution_count": 0,
      "outputs": []
    },
    {
      "metadata": {
        "id": "uth-p8GSeDZC",
        "colab_type": "text"
      },
      "cell_type": "markdown",
      "source": [
        "### Season Processing\n",
        "Processes the main table on the page that contains a link to each of the South Park episodes of a season--a loop goes through the link to each episode and returns a list containing the character and the text they said over all the seasons."
      ]
    },
    {
      "metadata": {
        "id": "1Kf0b7D4eEjd",
        "colab_type": "code",
        "colab": {
          "autoexec": {
            "startup": false,
            "wait_interval": 0
          }
        }
      },
      "cell_type": "code",
      "source": [
        "# loops through all episodes of a single season\n",
        "def parse_season(link, season):\n",
        "  # print('\\n-----------Season:', link)\n",
        "\n",
        "  season_page = BeautifulSoup(requests.get(link).content, 'html.parser')\n",
        "  season_table = season_page.find('div', id='gallery-0')\n",
        "\n",
        "  count = 1\n",
        "\n",
        "  # print('----------# of Ep:', len(season_table.find_all('a', class_='link-internal')))\n",
        "  temp = []\n",
        "  for a in season_table.find_all('a', class_='link-internal'):\n",
        "    k = parse_episode(url + a['href'], season, count)        \n",
        "    count += 1\n",
        "    temp.extend(k)\n",
        "    if season == 21 and count == 10:\n",
        "      break\n",
        "  return temp"
      ],
      "execution_count": 0,
      "outputs": []
    },
    {
      "metadata": {
        "id": "ggTU9MiQeXC2",
        "colab_type": "text"
      },
      "cell_type": "markdown",
      "source": [
        "### South Park Wikia Scripts Portal\n",
        "Process the main table on the scripts portal on the South Park Wikia (http://southpark.wikia.com/wiki/Portal:Scripts). It travereses through each season and each episode to create a DataFrame of episode scripts.\n",
        "\n",
        "The DataFrame has the following columns:\n",
        "* Season\n",
        "* Episode\n",
        "* Character\n",
        "* Line"
      ]
    },
    {
      "metadata": {
        "id": "b1EBfCZ1e6DK",
        "colab_type": "code",
        "colab": {
          "autoexec": {
            "startup": false,
            "wait_interval": 0
          },
          "output_extras": [
            {
              "item_id": 1
            }
          ],
          "base_uri": "https://localhost:8080/",
          "height": 198
        },
        "outputId": "53a92006-a668-41dd-c7d8-6e8a6b9b772d",
        "executionInfo": {
          "status": "ok",
          "timestamp": 1521779118126,
          "user_tz": 420,
          "elapsed": 68287,
          "user": {
            "displayName": "Manav Sahani",
            "photoUrl": "//lh5.googleusercontent.com/-OuY4PVl0W6s/AAAAAAAAAAI/AAAAAAAAAA0/47Nb7lg-NuQ/s50-c-k-no/photo.jpg",
            "userId": "104287893514495967247"
          }
        }
      },
      "cell_type": "code",
      "source": [
        "main_page = BeautifulSoup(requests.get(url + portal).content, 'html.parser')\n",
        "main_table = main_page.find('div', id='gallery-0')\n",
        "\n",
        "count = 1\n",
        "\n",
        "a = main_table.findAll('a', class_='link-internal')[0]\n",
        "temp = []\n",
        "\n",
        "for a in main_table.findAll('a', class_='link-internal'):\n",
        "  season_url = strip_season_url(a['href'])\n",
        "  k = parse_season(url + portal + season_url, count)\n",
        "  temp.extend(k)\n",
        "  count += 1\n",
        "    \n",
        "scripts_master = pd.DataFrame(temp)\n",
        "scripts_master.head()"
      ],
      "execution_count": 6,
      "outputs": [
        {
          "output_type": "execute_result",
          "data": {
            "text/html": [
              "<div>\n",
              "<style scoped>\n",
              "    .dataframe tbody tr th:only-of-type {\n",
              "        vertical-align: middle;\n",
              "    }\n",
              "\n",
              "    .dataframe tbody tr th {\n",
              "        vertical-align: top;\n",
              "    }\n",
              "\n",
              "    .dataframe thead th {\n",
              "        text-align: right;\n",
              "    }\n",
              "</style>\n",
              "<table border=\"1\" class=\"dataframe\">\n",
              "  <thead>\n",
              "    <tr style=\"text-align: right;\">\n",
              "      <th></th>\n",
              "      <th>character</th>\n",
              "      <th>episode</th>\n",
              "      <th>line</th>\n",
              "      <th>season</th>\n",
              "    </tr>\n",
              "  </thead>\n",
              "  <tbody>\n",
              "    <tr>\n",
              "      <th>0</th>\n",
              "      <td>Boys</td>\n",
              "      <td>1</td>\n",
              "      <td>School day, school day, teacher's golden ru...</td>\n",
              "      <td>1</td>\n",
              "    </tr>\n",
              "    <tr>\n",
              "      <th>1</th>\n",
              "      <td>Kyle Broflovski</td>\n",
              "      <td>1</td>\n",
              "      <td>Ah, damn it! My little brother's trying to fol...</td>\n",
              "      <td>1</td>\n",
              "    </tr>\n",
              "    <tr>\n",
              "      <th>2</th>\n",
              "      <td>Ike Broflovski</td>\n",
              "      <td>1</td>\n",
              "      <td>Zeeponaner.</td>\n",
              "      <td>1</td>\n",
              "    </tr>\n",
              "    <tr>\n",
              "      <th>3</th>\n",
              "      <td>Kyle Broflovski</td>\n",
              "      <td>1</td>\n",
              "      <td>Ike, you can't come to school with me. [Ike Ch...</td>\n",
              "      <td>1</td>\n",
              "    </tr>\n",
              "    <tr>\n",
              "      <th>4</th>\n",
              "      <td>Eric Cartman</td>\n",
              "      <td>1</td>\n",
              "      <td>Yeah, go home you little dildo!</td>\n",
              "      <td>1</td>\n",
              "    </tr>\n",
              "  </tbody>\n",
              "</table>\n",
              "</div>"
            ],
            "text/plain": [
              "         character  episode  \\\n",
              "0             Boys        1   \n",
              "1  Kyle Broflovski        1   \n",
              "2   Ike Broflovski        1   \n",
              "3  Kyle Broflovski        1   \n",
              "4     Eric Cartman        1   \n",
              "\n",
              "                                                line  season  \n",
              "0     School day, school day, teacher's golden ru...       1  \n",
              "1  Ah, damn it! My little brother's trying to fol...       1  \n",
              "2                                        Zeeponaner.       1  \n",
              "3  Ike, you can't come to school with me. [Ike Ch...       1  \n",
              "4                    Yeah, go home you little dildo!       1  "
            ]
          },
          "metadata": {
            "tags": []
          },
          "execution_count": 6
        }
      ]
    },
    {
      "metadata": {
        "id": "_2kQdNwnfrTM",
        "colab_type": "text"
      },
      "cell_type": "markdown",
      "source": [
        "For efficiency purposes, the website has already been scrapped by the previous code and stored in a CSV file."
      ]
    },
    {
      "metadata": {
        "id": "q-K9nPr6gCsQ",
        "colab_type": "code",
        "colab": {
          "autoexec": {
            "startup": false,
            "wait_interval": 0
          },
          "output_extras": [
            {
              "item_id": 1
            }
          ],
          "base_uri": "https://localhost:8080/",
          "height": 198
        },
        "outputId": "187f3d27-5244-4d91-a547-2ca05d6a5ed9",
        "executionInfo": {
          "status": "ok",
          "timestamp": 1521779119439,
          "user_tz": 420,
          "elapsed": 1221,
          "user": {
            "displayName": "Manav Sahani",
            "photoUrl": "//lh5.googleusercontent.com/-OuY4PVl0W6s/AAAAAAAAAAI/AAAAAAAAAA0/47Nb7lg-NuQ/s50-c-k-no/photo.jpg",
            "userId": "104287893514495967247"
          }
        }
      },
      "cell_type": "code",
      "source": [
        "scripts_url = 'https://raw.githubusercontent.com/GaneshV757/South-Park-Scripts/master/all-seasons-cleaned-sep.csv'\n",
        "scripts_master = pd.read_csv(scripts_url, sep='}').drop('Unnamed: 0', 1)\n",
        "scripts_master = scripts_master[pd.notnull(scripts_master['line'])]\n",
        "\n",
        "def fix_garrison(char):\n",
        "  if isinstance(char, str) and 'garrison' in char.lower():\n",
        "    return 'Garrison'\n",
        "  return char\n",
        "\n",
        "scripts_master['character'] = scripts_master['character'].apply(fix_garrison)\n",
        "scripts_master.head()"
      ],
      "execution_count": 7,
      "outputs": [
        {
          "output_type": "execute_result",
          "data": {
            "text/html": [
              "<div>\n",
              "<style scoped>\n",
              "    .dataframe tbody tr th:only-of-type {\n",
              "        vertical-align: middle;\n",
              "    }\n",
              "\n",
              "    .dataframe tbody tr th {\n",
              "        vertical-align: top;\n",
              "    }\n",
              "\n",
              "    .dataframe thead th {\n",
              "        text-align: right;\n",
              "    }\n",
              "</style>\n",
              "<table border=\"1\" class=\"dataframe\">\n",
              "  <thead>\n",
              "    <tr style=\"text-align: right;\">\n",
              "      <th></th>\n",
              "      <th>season</th>\n",
              "      <th>episode</th>\n",
              "      <th>character</th>\n",
              "      <th>line</th>\n",
              "    </tr>\n",
              "  </thead>\n",
              "  <tbody>\n",
              "    <tr>\n",
              "      <th>0</th>\n",
              "      <td>1</td>\n",
              "      <td>1</td>\n",
              "      <td>Boys</td>\n",
              "      <td>School day, school day, teacher's golden ru...</td>\n",
              "    </tr>\n",
              "    <tr>\n",
              "      <th>1</th>\n",
              "      <td>1</td>\n",
              "      <td>1</td>\n",
              "      <td>Kyle Broflovski</td>\n",
              "      <td>Ah, damn it! My little brother's trying to fol...</td>\n",
              "    </tr>\n",
              "    <tr>\n",
              "      <th>2</th>\n",
              "      <td>1</td>\n",
              "      <td>1</td>\n",
              "      <td>Ike Broflovski</td>\n",
              "      <td>Zeeponaner.</td>\n",
              "    </tr>\n",
              "    <tr>\n",
              "      <th>3</th>\n",
              "      <td>1</td>\n",
              "      <td>1</td>\n",
              "      <td>Kyle Broflovski</td>\n",
              "      <td>Ike, you can't come to school with me.</td>\n",
              "    </tr>\n",
              "    <tr>\n",
              "      <th>4</th>\n",
              "      <td>1</td>\n",
              "      <td>1</td>\n",
              "      <td>Eric Cartman</td>\n",
              "      <td>Yeah, go home you little dildo!</td>\n",
              "    </tr>\n",
              "  </tbody>\n",
              "</table>\n",
              "</div>"
            ],
            "text/plain": [
              "   season  episode        character  \\\n",
              "0       1        1             Boys   \n",
              "1       1        1  Kyle Broflovski   \n",
              "2       1        1   Ike Broflovski   \n",
              "3       1        1  Kyle Broflovski   \n",
              "4       1        1     Eric Cartman   \n",
              "\n",
              "                                                line  \n",
              "0     School day, school day, teacher's golden ru...  \n",
              "1  Ah, damn it! My little brother's trying to fol...  \n",
              "2                                        Zeeponaner.  \n",
              "3             Ike, you can't come to school with me.  \n",
              "4                    Yeah, go home you little dildo!  "
            ]
          },
          "metadata": {
            "tags": []
          },
          "execution_count": 7
        }
      ]
    },
    {
      "metadata": {
        "id": "qgmJTK8FgcpM",
        "colab_type": "text"
      },
      "cell_type": "markdown",
      "source": [
        "## IMDB Data (for South Park) Processing\n",
        "Episode names, airdates and ratings were scraped from IMDb using <a href=\"https://www.import.io\">import.io</a> and the CSV file is imported as a DataFrame."
      ]
    },
    {
      "metadata": {
        "id": "rAYAzKt2gl3V",
        "colab_type": "code",
        "colab": {
          "autoexec": {
            "startup": false,
            "wait_interval": 0
          },
          "output_extras": [
            {
              "item_id": 1
            }
          ],
          "base_uri": "https://localhost:8080/",
          "height": 198
        },
        "outputId": "0b980dbe-229c-4704-d9ad-cd486f047dcc",
        "executionInfo": {
          "status": "ok",
          "timestamp": 1521779119941,
          "user_tz": 420,
          "elapsed": 437,
          "user": {
            "displayName": "Manav Sahani",
            "photoUrl": "//lh5.googleusercontent.com/-OuY4PVl0W6s/AAAAAAAAAAI/AAAAAAAAAA0/47Nb7lg-NuQ/s50-c-k-no/photo.jpg",
            "userId": "104287893514495967247"
          }
        }
      },
      "cell_type": "code",
      "source": [
        "south_park_imdb_url = 'https://gist.githubusercontent.com/GaneshV757/fd8a7710b554a4cb01283543afe88940/raw/575c5591ea2825ef603a5f3bdd35e9fd09e6cad3/imdb_data.csv'\n",
        "south_park_imdb = pd.read_csv(south_park_imdb_url)\n",
        "south_park_imdb.head()"
      ],
      "execution_count": 8,
      "outputs": [
        {
          "output_type": "execute_result",
          "data": {
            "text/html": [
              "<div>\n",
              "<style scoped>\n",
              "    .dataframe tbody tr th:only-of-type {\n",
              "        vertical-align: middle;\n",
              "    }\n",
              "\n",
              "    .dataframe tbody tr th {\n",
              "        vertical-align: top;\n",
              "    }\n",
              "\n",
              "    .dataframe thead th {\n",
              "        text-align: right;\n",
              "    }\n",
              "</style>\n",
              "<table border=\"1\" class=\"dataframe\">\n",
              "  <thead>\n",
              "    <tr style=\"text-align: right;\">\n",
              "      <th></th>\n",
              "      <th>season</th>\n",
              "      <th>episode</th>\n",
              "      <th>airdate</th>\n",
              "      <th>ep_name</th>\n",
              "      <th>imdb_rating</th>\n",
              "    </tr>\n",
              "  </thead>\n",
              "  <tbody>\n",
              "    <tr>\n",
              "      <th>0</th>\n",
              "      <td>1</td>\n",
              "      <td>1</td>\n",
              "      <td>13-Aug-97</td>\n",
              "      <td>Cartman Gets an Anal Probe</td>\n",
              "      <td>8.2</td>\n",
              "    </tr>\n",
              "    <tr>\n",
              "      <th>1</th>\n",
              "      <td>1</td>\n",
              "      <td>2</td>\n",
              "      <td>20-Aug-97</td>\n",
              "      <td>Weight Gain 4000</td>\n",
              "      <td>7.9</td>\n",
              "    </tr>\n",
              "    <tr>\n",
              "      <th>2</th>\n",
              "      <td>1</td>\n",
              "      <td>3</td>\n",
              "      <td>27-Aug-97</td>\n",
              "      <td>Volcano</td>\n",
              "      <td>7.9</td>\n",
              "    </tr>\n",
              "    <tr>\n",
              "      <th>3</th>\n",
              "      <td>1</td>\n",
              "      <td>4</td>\n",
              "      <td>3-Sep-97</td>\n",
              "      <td>Big Gay Al's Big Gay Boat Ride</td>\n",
              "      <td>7.8</td>\n",
              "    </tr>\n",
              "    <tr>\n",
              "      <th>4</th>\n",
              "      <td>1</td>\n",
              "      <td>5</td>\n",
              "      <td>10-Sep-97</td>\n",
              "      <td>An Elephant Makes Love to a Pig</td>\n",
              "      <td>7.8</td>\n",
              "    </tr>\n",
              "  </tbody>\n",
              "</table>\n",
              "</div>"
            ],
            "text/plain": [
              "   season  episode    airdate                          ep_name  imdb_rating\n",
              "0       1        1  13-Aug-97       Cartman Gets an Anal Probe          8.2\n",
              "1       1        2  20-Aug-97                 Weight Gain 4000          7.9\n",
              "2       1        3  27-Aug-97                          Volcano          7.9\n",
              "3       1        4   3-Sep-97   Big Gay Al's Big Gay Boat Ride          7.8\n",
              "4       1        5  10-Sep-97  An Elephant Makes Love to a Pig          7.8"
            ]
          },
          "metadata": {
            "tags": []
          },
          "execution_count": 8
        }
      ]
    },
    {
      "metadata": {
        "id": "-ujA2G3ChuS-",
        "colab_type": "text"
      },
      "cell_type": "markdown",
      "source": [
        "## Joining South Park Scripts and IMDB Data\n",
        "The South Park scripts and the IMDB data are joined together into a DataFrame that now holds the columns:\n",
        "* Season\n",
        "* Episode\n",
        "* Airdate (of episode)\n",
        "* Ratings (of episode)\n",
        "* Character\n",
        "* Line\n",
        "\n",
        "The airdates are also standardized (ISO 8601 format) for easier comparisons between dates."
      ]
    },
    {
      "metadata": {
        "id": "OrN5ly7pi9RH",
        "colab_type": "code",
        "colab": {
          "autoexec": {
            "startup": false,
            "wait_interval": 0
          },
          "output_extras": [
            {
              "item_id": 1
            }
          ],
          "base_uri": "https://localhost:8080/",
          "height": 198
        },
        "outputId": "6dcd23f3-ae51-4bba-816c-5614aabd0321",
        "executionInfo": {
          "status": "ok",
          "timestamp": 1521779123951,
          "user_tz": 420,
          "elapsed": 3853,
          "user": {
            "displayName": "Manav Sahani",
            "photoUrl": "//lh5.googleusercontent.com/-OuY4PVl0W6s/AAAAAAAAAAI/AAAAAAAAAA0/47Nb7lg-NuQ/s50-c-k-no/photo.jpg",
            "userId": "104287893514495967247"
          }
        }
      },
      "cell_type": "code",
      "source": [
        "scripts = scripts_master.copy()\n",
        "for row in south_park_imdb.iterrows():\n",
        "  row = row[1]\n",
        "  scripts.loc[(scripts['season'] == row['season']) & (scripts['episode'] == row['episode']), 'airdate'] = row['airdate']\n",
        "  scripts.loc[(scripts['season'] == row['season']) & (scripts['episode'] == row['episode']), 'ratings'] = row['imdb_rating']\n",
        "  \n",
        "def standard_date(date):\n",
        "  formated = datetime.strptime(date, '%d-%b-%y')\n",
        "  return formated\n",
        "\n",
        "scripts['airdate'] = scripts['airdate'].apply(standard_date)\n",
        "scripts = scripts[['season', 'episode', 'airdate', 'ratings', 'character', 'line']]\n",
        "scripts.head()"
      ],
      "execution_count": 9,
      "outputs": [
        {
          "output_type": "execute_result",
          "data": {
            "text/html": [
              "<div>\n",
              "<style scoped>\n",
              "    .dataframe tbody tr th:only-of-type {\n",
              "        vertical-align: middle;\n",
              "    }\n",
              "\n",
              "    .dataframe tbody tr th {\n",
              "        vertical-align: top;\n",
              "    }\n",
              "\n",
              "    .dataframe thead th {\n",
              "        text-align: right;\n",
              "    }\n",
              "</style>\n",
              "<table border=\"1\" class=\"dataframe\">\n",
              "  <thead>\n",
              "    <tr style=\"text-align: right;\">\n",
              "      <th></th>\n",
              "      <th>season</th>\n",
              "      <th>episode</th>\n",
              "      <th>airdate</th>\n",
              "      <th>ratings</th>\n",
              "      <th>character</th>\n",
              "      <th>line</th>\n",
              "    </tr>\n",
              "  </thead>\n",
              "  <tbody>\n",
              "    <tr>\n",
              "      <th>0</th>\n",
              "      <td>1</td>\n",
              "      <td>1</td>\n",
              "      <td>1997-08-13</td>\n",
              "      <td>8.2</td>\n",
              "      <td>Boys</td>\n",
              "      <td>School day, school day, teacher's golden ru...</td>\n",
              "    </tr>\n",
              "    <tr>\n",
              "      <th>1</th>\n",
              "      <td>1</td>\n",
              "      <td>1</td>\n",
              "      <td>1997-08-13</td>\n",
              "      <td>8.2</td>\n",
              "      <td>Kyle Broflovski</td>\n",
              "      <td>Ah, damn it! My little brother's trying to fol...</td>\n",
              "    </tr>\n",
              "    <tr>\n",
              "      <th>2</th>\n",
              "      <td>1</td>\n",
              "      <td>1</td>\n",
              "      <td>1997-08-13</td>\n",
              "      <td>8.2</td>\n",
              "      <td>Ike Broflovski</td>\n",
              "      <td>Zeeponaner.</td>\n",
              "    </tr>\n",
              "    <tr>\n",
              "      <th>3</th>\n",
              "      <td>1</td>\n",
              "      <td>1</td>\n",
              "      <td>1997-08-13</td>\n",
              "      <td>8.2</td>\n",
              "      <td>Kyle Broflovski</td>\n",
              "      <td>Ike, you can't come to school with me.</td>\n",
              "    </tr>\n",
              "    <tr>\n",
              "      <th>4</th>\n",
              "      <td>1</td>\n",
              "      <td>1</td>\n",
              "      <td>1997-08-13</td>\n",
              "      <td>8.2</td>\n",
              "      <td>Eric Cartman</td>\n",
              "      <td>Yeah, go home you little dildo!</td>\n",
              "    </tr>\n",
              "  </tbody>\n",
              "</table>\n",
              "</div>"
            ],
            "text/plain": [
              "   season  episode    airdate  ratings        character  \\\n",
              "0       1        1 1997-08-13      8.2             Boys   \n",
              "1       1        1 1997-08-13      8.2  Kyle Broflovski   \n",
              "2       1        1 1997-08-13      8.2   Ike Broflovski   \n",
              "3       1        1 1997-08-13      8.2  Kyle Broflovski   \n",
              "4       1        1 1997-08-13      8.2     Eric Cartman   \n",
              "\n",
              "                                                line  \n",
              "0     School day, school day, teacher's golden ru...  \n",
              "1  Ah, damn it! My little brother's trying to fol...  \n",
              "2                                        Zeeponaner.  \n",
              "3             Ike, you can't come to school with me.  \n",
              "4                    Yeah, go home you little dildo!  "
            ]
          },
          "metadata": {
            "tags": []
          },
          "execution_count": 9
        }
      ]
    },
    {
      "metadata": {
        "id": "AHOBqwRAbvGo",
        "colab_type": "text"
      },
      "cell_type": "markdown",
      "source": [
        "## **Trump Job Approval Data Processing and Cleaning**\n",
        "Data scraped from University of California Santa Barbara (UCSB) (http://www.presidency.ucsb.edu/data/popularity.php?pres=45&sort=time&direct=DESC&Submit=DISPLAY). The main table in the page contains the date of each poll as well as the percent approval, disapproval, and uncertain for that poll."
      ]
    },
    {
      "metadata": {
        "id": "dGWA0NIgcEXi",
        "colab_type": "code",
        "colab": {
          "autoexec": {
            "startup": false,
            "wait_interval": 0
          },
          "output_extras": [
            {
              "item_id": 1
            }
          ],
          "base_uri": "https://localhost:8080/",
          "height": 198
        },
        "outputId": "a8b1ae07-59fa-4cb3-e7c3-b75733fc7ae9",
        "executionInfo": {
          "status": "ok",
          "timestamp": 1521779124826,
          "user_tz": 420,
          "elapsed": 830,
          "user": {
            "displayName": "Manav Sahani",
            "photoUrl": "//lh5.googleusercontent.com/-OuY4PVl0W6s/AAAAAAAAAAI/AAAAAAAAAA0/47Nb7lg-NuQ/s50-c-k-no/photo.jpg",
            "userId": "104287893514495967247"
          }
        }
      },
      "cell_type": "code",
      "source": [
        "trump_url = 'http://www.presidency.ucsb.edu/data/popularity.php?pres=45&sort=time&direct=DESC&Submit=DISPLAY'\n",
        "trump_page = requests.get(trump_url)\n",
        "trump_soup = BeautifulSoup(trump_page.content, 'html.parser')\n",
        "rows = trump_soup.find_all('table')[10].find_all('tr')[4:]\n",
        "trump = pd.DataFrame()\n",
        "r = 0\n",
        "c = 0\n",
        "for tr in rows:\n",
        "  cols = tr.find_all('td')\n",
        "  for td in cols:\n",
        "    trump.loc[r,c] = td.text\n",
        "    c = c + 1\n",
        "  r = r + 1  \n",
        "  c = 0 \n",
        "  \n",
        "trump = trump.drop(3, axis=1)\n",
        "trump.columns = trump.loc[0]\n",
        "trump = trump.drop([0, 1])\n",
        "trump = trump.reset_index(drop=True)\n",
        "\n",
        "trump['int_approval'] = pd.to_numeric(trump['Approving '])\n",
        "trump['normalized_approval'] = trump['int_approval']\n",
        "#trump['normalized_approval'] = (trump['int_approval'] - np.mean(trump['int_approval'])) / np.std(trump['int_approval'])\n",
        "\n",
        "trump['standard_datetime'] = [datetime.strptime(x, '%m/%d/%Y') for x in trump['End Date ']]\n",
        "\n",
        "trump.head()"
      ],
      "execution_count": 10,
      "outputs": [
        {
          "output_type": "execute_result",
          "data": {
            "text/html": [
              "<div>\n",
              "<style scoped>\n",
              "    .dataframe tbody tr th:only-of-type {\n",
              "        vertical-align: middle;\n",
              "    }\n",
              "\n",
              "    .dataframe tbody tr th {\n",
              "        vertical-align: top;\n",
              "    }\n",
              "\n",
              "    .dataframe thead th {\n",
              "        text-align: right;\n",
              "    }\n",
              "</style>\n",
              "<table border=\"1\" class=\"dataframe\">\n",
              "  <thead>\n",
              "    <tr style=\"text-align: right;\">\n",
              "      <th></th>\n",
              "      <th>President</th>\n",
              "      <th>Start Date</th>\n",
              "      <th>End Date</th>\n",
              "      <th>Approving</th>\n",
              "      <th>Disapproving</th>\n",
              "      <th>unsure/no data</th>\n",
              "      <th>int_approval</th>\n",
              "      <th>normalized_approval</th>\n",
              "      <th>standard_datetime</th>\n",
              "    </tr>\n",
              "  </thead>\n",
              "  <tbody>\n",
              "    <tr>\n",
              "      <th>0</th>\n",
              "      <td>Donald J. Trump</td>\n",
              "      <td>02/26/2018</td>\n",
              "      <td>03/04/2018</td>\n",
              "      <td>39</td>\n",
              "      <td>55</td>\n",
              "      <td>6</td>\n",
              "      <td>39</td>\n",
              "      <td>39</td>\n",
              "      <td>2018-03-04</td>\n",
              "    </tr>\n",
              "    <tr>\n",
              "      <th>1</th>\n",
              "      <td></td>\n",
              "      <td>02/19/2018</td>\n",
              "      <td>02/25/2018</td>\n",
              "      <td>39</td>\n",
              "      <td>56</td>\n",
              "      <td>5</td>\n",
              "      <td>39</td>\n",
              "      <td>39</td>\n",
              "      <td>2018-02-25</td>\n",
              "    </tr>\n",
              "    <tr>\n",
              "      <th>2</th>\n",
              "      <td></td>\n",
              "      <td>02/12/2018</td>\n",
              "      <td>02/18/2018</td>\n",
              "      <td>37</td>\n",
              "      <td>59</td>\n",
              "      <td>4</td>\n",
              "      <td>37</td>\n",
              "      <td>37</td>\n",
              "      <td>2018-02-18</td>\n",
              "    </tr>\n",
              "    <tr>\n",
              "      <th>3</th>\n",
              "      <td></td>\n",
              "      <td>02/05/2018</td>\n",
              "      <td>02/11/2018</td>\n",
              "      <td>40</td>\n",
              "      <td>57</td>\n",
              "      <td>3</td>\n",
              "      <td>40</td>\n",
              "      <td>40</td>\n",
              "      <td>2018-02-11</td>\n",
              "    </tr>\n",
              "    <tr>\n",
              "      <th>4</th>\n",
              "      <td></td>\n",
              "      <td>01/29/2018</td>\n",
              "      <td>02/04/2018</td>\n",
              "      <td>40</td>\n",
              "      <td>57</td>\n",
              "      <td>3</td>\n",
              "      <td>40</td>\n",
              "      <td>40</td>\n",
              "      <td>2018-02-04</td>\n",
              "    </tr>\n",
              "  </tbody>\n",
              "</table>\n",
              "</div>"
            ],
            "text/plain": [
              "0        President Start Date     End Date  Approving  Disapproving   \\\n",
              "0  Donald J. Trump   02/26/2018  03/04/2018         39            55   \n",
              "1                    02/19/2018  02/25/2018         39            56   \n",
              "2                    02/12/2018  02/18/2018         37            59   \n",
              "3                    02/05/2018  02/11/2018         40            57   \n",
              "4                    01/29/2018  02/04/2018         40            57   \n",
              "\n",
              "0 unsure/no data  int_approval  normalized_approval standard_datetime  \n",
              "0              6            39                   39        2018-03-04  \n",
              "1              5            39                   39        2018-02-25  \n",
              "2              4            37                   37        2018-02-18  \n",
              "3              3            40                   40        2018-02-11  \n",
              "4              3            40                   40        2018-02-04  "
            ]
          },
          "metadata": {
            "tags": []
          },
          "execution_count": 10
        }
      ]
    },
    {
      "metadata": {
        "id": "40EwH5quZd04",
        "colab_type": "text"
      },
      "cell_type": "markdown",
      "source": [
        "## **Obama Job Approval Data Processing and Cleaning**\n",
        "Data scraped from UCSB (http://www.presidency.ucsb.edu/data/popularity.php?pres=44&sort=time&direct=DESC&Submit=DISPLAY). The main table in the page contains the date of each poll as well as the percent approval, disapproval, and uncertain for that poll."
      ]
    },
    {
      "metadata": {
        "id": "klK864vsJ7R-",
        "colab_type": "code",
        "colab": {
          "autoexec": {
            "startup": false,
            "wait_interval": 0
          },
          "output_extras": [
            {
              "item_id": 1
            }
          ],
          "base_uri": "https://localhost:8080/",
          "height": 198
        },
        "outputId": "78bc654a-52a6-43d0-905f-7b08d35e9e4f",
        "executionInfo": {
          "status": "ok",
          "timestamp": 1521779139179,
          "user_tz": 420,
          "elapsed": 14306,
          "user": {
            "displayName": "Manav Sahani",
            "photoUrl": "//lh5.googleusercontent.com/-OuY4PVl0W6s/AAAAAAAAAAI/AAAAAAAAAA0/47Nb7lg-NuQ/s50-c-k-no/photo.jpg",
            "userId": "104287893514495967247"
          }
        }
      },
      "cell_type": "code",
      "source": [
        "obama_url = 'http://www.presidency.ucsb.edu/data/popularity.php?pres=44&sort=time&direct=DESC&Submit=DISPLAY'\n",
        "obama_page = requests.get(obama_url)\n",
        "obama_soup = BeautifulSoup(obama_page.content, 'html.parser')\n",
        "rows = obama_soup.find_all('table')[10].find_all('tr')[4:]\n",
        "obama = pd.DataFrame()\n",
        "r = 0\n",
        "c = 0\n",
        "for tr in rows:\n",
        "  cols = tr.find_all('td')\n",
        "  for td in cols:\n",
        "    obama.loc[r,c] = td.text\n",
        "    c = c + 1\n",
        "  r = r + 1  \n",
        "  c = 0 \n",
        "  \n",
        "obama = obama.drop(3, axis=1)\n",
        "obama.columns = obama.loc[0]\n",
        "obama = obama.drop([0, 1])\n",
        "obama = obama.reset_index(drop=True)\n",
        "\n",
        "obama['int_approval'] = pd.to_numeric(obama['Approving '])\n",
        "obama['normalized_approval'] = obama['int_approval']\n",
        "#obama['normalized_approval'] = (obama['int_approval'] - np.mean(obama['int_approval'])) / np.std(obama['int_approval'])\n",
        "\n",
        "obama['standard_datetime'] = [datetime.strptime(x, '%m/%d/%Y') for x in obama['End Date ']]\n",
        "\n",
        "obama.head()"
      ],
      "execution_count": 11,
      "outputs": [
        {
          "output_type": "execute_result",
          "data": {
            "text/html": [
              "<div>\n",
              "<style scoped>\n",
              "    .dataframe tbody tr th:only-of-type {\n",
              "        vertical-align: middle;\n",
              "    }\n",
              "\n",
              "    .dataframe tbody tr th {\n",
              "        vertical-align: top;\n",
              "    }\n",
              "\n",
              "    .dataframe thead th {\n",
              "        text-align: right;\n",
              "    }\n",
              "</style>\n",
              "<table border=\"1\" class=\"dataframe\">\n",
              "  <thead>\n",
              "    <tr style=\"text-align: right;\">\n",
              "      <th></th>\n",
              "      <th>President</th>\n",
              "      <th>Start Date</th>\n",
              "      <th>End Date</th>\n",
              "      <th>Approving</th>\n",
              "      <th>Disapproving</th>\n",
              "      <th>unsure/no data</th>\n",
              "      <th>int_approval</th>\n",
              "      <th>normalized_approval</th>\n",
              "      <th>standard_datetime</th>\n",
              "    </tr>\n",
              "  </thead>\n",
              "  <tbody>\n",
              "    <tr>\n",
              "      <th>0</th>\n",
              "      <td>Barack Obama</td>\n",
              "      <td>01/17/2017</td>\n",
              "      <td>01/19/2017</td>\n",
              "      <td>59</td>\n",
              "      <td>37</td>\n",
              "      <td>4</td>\n",
              "      <td>59</td>\n",
              "      <td>59</td>\n",
              "      <td>2017-01-19</td>\n",
              "    </tr>\n",
              "    <tr>\n",
              "      <th>1</th>\n",
              "      <td></td>\n",
              "      <td>01/15/2017</td>\n",
              "      <td>01/18/2017</td>\n",
              "      <td>58</td>\n",
              "      <td>38</td>\n",
              "      <td>4</td>\n",
              "      <td>58</td>\n",
              "      <td>58</td>\n",
              "      <td>2017-01-18</td>\n",
              "    </tr>\n",
              "    <tr>\n",
              "      <th>2</th>\n",
              "      <td></td>\n",
              "      <td>01/14/2017</td>\n",
              "      <td>01/17/2017</td>\n",
              "      <td>57</td>\n",
              "      <td>39</td>\n",
              "      <td>4</td>\n",
              "      <td>57</td>\n",
              "      <td>57</td>\n",
              "      <td>2017-01-17</td>\n",
              "    </tr>\n",
              "    <tr>\n",
              "      <th>3</th>\n",
              "      <td></td>\n",
              "      <td>01/13/2017</td>\n",
              "      <td>01/15/2017</td>\n",
              "      <td>57</td>\n",
              "      <td>38</td>\n",
              "      <td>5</td>\n",
              "      <td>57</td>\n",
              "      <td>57</td>\n",
              "      <td>2017-01-15</td>\n",
              "    </tr>\n",
              "    <tr>\n",
              "      <th>4</th>\n",
              "      <td></td>\n",
              "      <td>01/12/2017</td>\n",
              "      <td>01/14/2017</td>\n",
              "      <td>57</td>\n",
              "      <td>39</td>\n",
              "      <td>4</td>\n",
              "      <td>57</td>\n",
              "      <td>57</td>\n",
              "      <td>2017-01-14</td>\n",
              "    </tr>\n",
              "  </tbody>\n",
              "</table>\n",
              "</div>"
            ],
            "text/plain": [
              "0     President Start Date     End Date  Approving  Disapproving   \\\n",
              "0  Barack Obama   01/17/2017  01/19/2017         59            37   \n",
              "1                 01/15/2017  01/18/2017         58            38   \n",
              "2                 01/14/2017  01/17/2017         57            39   \n",
              "3                 01/13/2017  01/15/2017         57            38   \n",
              "4                 01/12/2017  01/14/2017         57            39   \n",
              "\n",
              "0 unsure/no data  int_approval  normalized_approval standard_datetime  \n",
              "0              4            59                   59        2017-01-19  \n",
              "1              4            58                   58        2017-01-18  \n",
              "2              4            57                   57        2017-01-17  \n",
              "3              5            57                   57        2017-01-15  \n",
              "4              4            57                   57        2017-01-14  "
            ]
          },
          "metadata": {
            "tags": []
          },
          "execution_count": 11
        }
      ]
    },
    {
      "metadata": {
        "id": "XfjjUZItZwFr",
        "colab_type": "text"
      },
      "cell_type": "markdown",
      "source": [
        "## **Bush Job Approval Data Processing and Cleaning**\n",
        "Data scraped from UCSB (http://www.presidency.ucsb.edu/data/popularity.php?pres=43&sort=time&direct=DESC&Submit=DISPLAY). The main table in the page contains the date of each poll as well as the percent approval, disapproval, and uncertain for that poll."
      ]
    },
    {
      "metadata": {
        "id": "-ZxUJ78LX7nz",
        "colab_type": "code",
        "colab": {
          "autoexec": {
            "startup": false,
            "wait_interval": 0
          },
          "output_extras": [
            {
              "item_id": 1
            }
          ],
          "base_uri": "https://localhost:8080/",
          "height": 198
        },
        "outputId": "fb68d8b7-ba00-424a-acf6-811bc26ef569",
        "executionInfo": {
          "status": "ok",
          "timestamp": 1521779140543,
          "user_tz": 420,
          "elapsed": 1309,
          "user": {
            "displayName": "Manav Sahani",
            "photoUrl": "//lh5.googleusercontent.com/-OuY4PVl0W6s/AAAAAAAAAAI/AAAAAAAAAA0/47Nb7lg-NuQ/s50-c-k-no/photo.jpg",
            "userId": "104287893514495967247"
          }
        }
      },
      "cell_type": "code",
      "source": [
        "bush_url = 'http://www.presidency.ucsb.edu/data/popularity.php?pres=43&sort=time&direct=DESC&Submit=DISPLAY'\n",
        "bush_page = requests.get(bush_url)\n",
        "bush_soup = BeautifulSoup(bush_page.content, 'html.parser')\n",
        "rows = bush_soup.find_all('table')[10].find_all('tr')[4:]\n",
        "bush = pd.DataFrame()\n",
        "r = 0\n",
        "c = 0\n",
        "for tr in rows:\n",
        "  cols = tr.find_all('td')\n",
        "  for td in cols:\n",
        "    bush.loc[r,c] = td.text\n",
        "    c = c + 1\n",
        "  r = r + 1  \n",
        "  c = 0 \n",
        "  \n",
        "bush = bush.drop(3, axis=1)\n",
        "bush.columns = bush.loc[0]\n",
        "bush = bush.drop([0, 1])\n",
        "bush = bush.reset_index(drop=True)\n",
        "\n",
        "bush['int_approval'] = pd.to_numeric(bush['Approving '])\n",
        "bush['normalized_approval'] = bush['int_approval']\n",
        "#bush['normalized_approval'] = (bush['int_approval'] - np.mean(bush['int_approval'])) / np.std(bush['int_approval'])\n",
        "\n",
        "bush['standard_datetime'] = [datetime.strptime(x, '%m/%d/%Y') for x in bush['End Date ']]\n",
        "\n",
        "bush.head()"
      ],
      "execution_count": 12,
      "outputs": [
        {
          "output_type": "execute_result",
          "data": {
            "text/html": [
              "<div>\n",
              "<style scoped>\n",
              "    .dataframe tbody tr th:only-of-type {\n",
              "        vertical-align: middle;\n",
              "    }\n",
              "\n",
              "    .dataframe tbody tr th {\n",
              "        vertical-align: top;\n",
              "    }\n",
              "\n",
              "    .dataframe thead th {\n",
              "        text-align: right;\n",
              "    }\n",
              "</style>\n",
              "<table border=\"1\" class=\"dataframe\">\n",
              "  <thead>\n",
              "    <tr style=\"text-align: right;\">\n",
              "      <th></th>\n",
              "      <th>President</th>\n",
              "      <th>Start Date</th>\n",
              "      <th>End Date</th>\n",
              "      <th>Approving</th>\n",
              "      <th>Disapproving</th>\n",
              "      <th>unsure/no data</th>\n",
              "      <th>int_approval</th>\n",
              "      <th>normalized_approval</th>\n",
              "      <th>standard_datetime</th>\n",
              "    </tr>\n",
              "  </thead>\n",
              "  <tbody>\n",
              "    <tr>\n",
              "      <th>0</th>\n",
              "      <td>George W. Bush</td>\n",
              "      <td>01/09/2009</td>\n",
              "      <td>01/11/2009</td>\n",
              "      <td>34</td>\n",
              "      <td>61</td>\n",
              "      <td>5</td>\n",
              "      <td>34</td>\n",
              "      <td>34</td>\n",
              "      <td>2009-01-11</td>\n",
              "    </tr>\n",
              "    <tr>\n",
              "      <th>1</th>\n",
              "      <td></td>\n",
              "      <td>12/12/2008</td>\n",
              "      <td>12/14/2008</td>\n",
              "      <td>29</td>\n",
              "      <td>67</td>\n",
              "      <td>4</td>\n",
              "      <td>29</td>\n",
              "      <td>29</td>\n",
              "      <td>2008-12-14</td>\n",
              "    </tr>\n",
              "    <tr>\n",
              "      <th>2</th>\n",
              "      <td></td>\n",
              "      <td>12/04/2008</td>\n",
              "      <td>12/07/2008</td>\n",
              "      <td>32</td>\n",
              "      <td>61</td>\n",
              "      <td>7</td>\n",
              "      <td>32</td>\n",
              "      <td>32</td>\n",
              "      <td>2008-12-07</td>\n",
              "    </tr>\n",
              "    <tr>\n",
              "      <th>3</th>\n",
              "      <td></td>\n",
              "      <td>11/13/2008</td>\n",
              "      <td>11/16/2008</td>\n",
              "      <td>29</td>\n",
              "      <td>66</td>\n",
              "      <td>4</td>\n",
              "      <td>29</td>\n",
              "      <td>29</td>\n",
              "      <td>2008-11-16</td>\n",
              "    </tr>\n",
              "    <tr>\n",
              "      <th>4</th>\n",
              "      <td></td>\n",
              "      <td>11/07/2008</td>\n",
              "      <td>11/09/2008</td>\n",
              "      <td>28</td>\n",
              "      <td>68</td>\n",
              "      <td>5</td>\n",
              "      <td>28</td>\n",
              "      <td>28</td>\n",
              "      <td>2008-11-09</td>\n",
              "    </tr>\n",
              "  </tbody>\n",
              "</table>\n",
              "</div>"
            ],
            "text/plain": [
              "0       President Start Date     End Date  Approving  Disapproving   \\\n",
              "0  George W. Bush   01/09/2009  01/11/2009         34            61   \n",
              "1                   12/12/2008  12/14/2008         29            67   \n",
              "2                   12/04/2008  12/07/2008         32            61   \n",
              "3                   11/13/2008  11/16/2008         29            66   \n",
              "4                   11/07/2008  11/09/2008         28            68   \n",
              "\n",
              "0 unsure/no data  int_approval  normalized_approval standard_datetime  \n",
              "0              5            34                   34        2009-01-11  \n",
              "1              4            29                   29        2008-12-14  \n",
              "2              7            32                   32        2008-12-07  \n",
              "3              4            29                   29        2008-11-16  \n",
              "4              5            28                   28        2008-11-09  "
            ]
          },
          "metadata": {
            "tags": []
          },
          "execution_count": 12
        }
      ]
    },
    {
      "metadata": {
        "id": "Q3C2YAXNai4H",
        "colab_type": "text"
      },
      "cell_type": "markdown",
      "source": [
        "## **Clinton Job Approval Data Processing and Cleaning**\n",
        "Data scraped from UCSB (http://www.presidency.ucsb.edu/data/popularity.php?pres=42&sort=time&direct=DESC&Submit=DISPLAY). The main table in the page contains the date of each poll as well as the percent approval, disapproval, and uncertain for that poll."
      ]
    },
    {
      "metadata": {
        "id": "pNhCC6FraN9a",
        "colab_type": "code",
        "colab": {
          "autoexec": {
            "startup": false,
            "wait_interval": 0
          },
          "output_extras": [
            {
              "item_id": 1
            }
          ],
          "base_uri": "https://localhost:8080/",
          "height": 198
        },
        "outputId": "f8b9e635-9e81-4962-e0a0-1af86c327822",
        "executionInfo": {
          "status": "ok",
          "timestamp": 1521779142044,
          "user_tz": 420,
          "elapsed": 1442,
          "user": {
            "displayName": "Manav Sahani",
            "photoUrl": "//lh5.googleusercontent.com/-OuY4PVl0W6s/AAAAAAAAAAI/AAAAAAAAAA0/47Nb7lg-NuQ/s50-c-k-no/photo.jpg",
            "userId": "104287893514495967247"
          }
        }
      },
      "cell_type": "code",
      "source": [
        "clinton_url = 'http://www.presidency.ucsb.edu/data/popularity.php?pres=42&sort=time&direct=DESC&Submit=DISPLAY'\n",
        "clinton_page = requests.get(clinton_url)\n",
        "clinton_soup = BeautifulSoup(clinton_page.content, 'html.parser')\n",
        "rows = clinton_soup.find_all('table')[10].find_all('tr')[4:]\n",
        "clinton = pd.DataFrame()\n",
        "r = 0\n",
        "c = 0\n",
        "for tr in rows:\n",
        "  cols = tr.find_all('td')\n",
        "  for td in cols:\n",
        "    clinton.loc[r,c] = td.text\n",
        "    c = c + 1\n",
        "  r = r + 1  \n",
        "  c = 0 \n",
        "  \n",
        "clinton = clinton.drop(3, axis=1)\n",
        "clinton.columns = clinton.loc[0]\n",
        "clinton = clinton.drop([0, 1])\n",
        "clinton = clinton.reset_index(drop=True)\n",
        "\n",
        "clinton['int_approval'] = pd.to_numeric(clinton['Approving '])\n",
        "clinton['normalized_approval'] = clinton['int_approval']\n",
        "#clinton['normalized_approval'] = (clinton['int_approval'] - np.mean(clinton['int_approval']))/ np.std(clinton['int_approval'])\n",
        "\n",
        "clinton['standard_datetime'] = [datetime.strptime(x, '%m/%d/%Y') for x in clinton['End Date ']]\n",
        "\n",
        "clinton.head()"
      ],
      "execution_count": 13,
      "outputs": [
        {
          "output_type": "execute_result",
          "data": {
            "text/html": [
              "<div>\n",
              "<style scoped>\n",
              "    .dataframe tbody tr th:only-of-type {\n",
              "        vertical-align: middle;\n",
              "    }\n",
              "\n",
              "    .dataframe tbody tr th {\n",
              "        vertical-align: top;\n",
              "    }\n",
              "\n",
              "    .dataframe thead th {\n",
              "        text-align: right;\n",
              "    }\n",
              "</style>\n",
              "<table border=\"1\" class=\"dataframe\">\n",
              "  <thead>\n",
              "    <tr style=\"text-align: right;\">\n",
              "      <th></th>\n",
              "      <th>President</th>\n",
              "      <th>Start Date</th>\n",
              "      <th>End Date</th>\n",
              "      <th>Approving</th>\n",
              "      <th>Disapproving</th>\n",
              "      <th>unsure/no data</th>\n",
              "      <th>int_approval</th>\n",
              "      <th>normalized_approval</th>\n",
              "      <th>standard_datetime</th>\n",
              "    </tr>\n",
              "  </thead>\n",
              "  <tbody>\n",
              "    <tr>\n",
              "      <th>0</th>\n",
              "      <td>William J. Clinton</td>\n",
              "      <td>01/10/2001</td>\n",
              "      <td>01/14/2001</td>\n",
              "      <td>66</td>\n",
              "      <td>29</td>\n",
              "      <td>5</td>\n",
              "      <td>66</td>\n",
              "      <td>66</td>\n",
              "      <td>2001-01-14</td>\n",
              "    </tr>\n",
              "    <tr>\n",
              "      <th>1</th>\n",
              "      <td></td>\n",
              "      <td>01/05/2001</td>\n",
              "      <td>01/07/2001</td>\n",
              "      <td>63</td>\n",
              "      <td>31</td>\n",
              "      <td>4</td>\n",
              "      <td>63</td>\n",
              "      <td>63</td>\n",
              "      <td>2001-01-07</td>\n",
              "    </tr>\n",
              "    <tr>\n",
              "      <th>2</th>\n",
              "      <td></td>\n",
              "      <td>12/15/2000</td>\n",
              "      <td>12/17/2000</td>\n",
              "      <td>71</td>\n",
              "      <td>26</td>\n",
              "      <td>1</td>\n",
              "      <td>71</td>\n",
              "      <td>71</td>\n",
              "      <td>2000-12-17</td>\n",
              "    </tr>\n",
              "    <tr>\n",
              "      <th>3</th>\n",
              "      <td></td>\n",
              "      <td>12/02/2000</td>\n",
              "      <td>12/04/2000</td>\n",
              "      <td>59</td>\n",
              "      <td>35</td>\n",
              "      <td>5</td>\n",
              "      <td>59</td>\n",
              "      <td>59</td>\n",
              "      <td>2000-12-04</td>\n",
              "    </tr>\n",
              "    <tr>\n",
              "      <th>4</th>\n",
              "      <td></td>\n",
              "      <td>11/13/2000</td>\n",
              "      <td>11/15/2000</td>\n",
              "      <td>63</td>\n",
              "      <td>32</td>\n",
              "      <td>4</td>\n",
              "      <td>63</td>\n",
              "      <td>63</td>\n",
              "      <td>2000-11-15</td>\n",
              "    </tr>\n",
              "  </tbody>\n",
              "</table>\n",
              "</div>"
            ],
            "text/plain": [
              "0           President Start Date     End Date  Approving  Disapproving   \\\n",
              "0  William J. Clinton   01/10/2001  01/14/2001         66            29   \n",
              "1                       01/05/2001  01/07/2001         63            31   \n",
              "2                       12/15/2000  12/17/2000         71            26   \n",
              "3                       12/02/2000  12/04/2000         59            35   \n",
              "4                       11/13/2000  11/15/2000         63            32   \n",
              "\n",
              "0 unsure/no data  int_approval  normalized_approval standard_datetime  \n",
              "0              5            66                   66        2001-01-14  \n",
              "1              4            63                   63        2001-01-07  \n",
              "2              1            71                   71        2000-12-17  \n",
              "3              5            59                   59        2000-12-04  \n",
              "4              4            63                   63        2000-11-15  "
            ]
          },
          "metadata": {
            "tags": []
          },
          "execution_count": 13
        }
      ]
    },
    {
      "metadata": {
        "id": "48xHL7oOk_Kf",
        "colab_type": "text"
      },
      "cell_type": "markdown",
      "source": [
        "## **Concatenating All Poll Data**\n",
        "Concatenate poll data from all four presidents in in the order from oldest to newest"
      ]
    },
    {
      "metadata": {
        "id": "Gu-YDJLLk-ZT",
        "colab_type": "code",
        "colab": {
          "autoexec": {
            "startup": false,
            "wait_interval": 0
          }
        },
        "cellView": "code"
      },
      "cell_type": "code",
      "source": [
        "overall_poll = pd.concat([trump,obama,bush,clinton])\n",
        "overall_poll = overall_poll.reset_index(drop=True)\n",
        "overall_poll_reverse = overall_poll[::-1]\n",
        "s = pd.Series(overall_poll_reverse['standard_datetime'])\n",
        "overall_poll_reverse['standard_datetime_num'] = pd.to_numeric(s)\n",
        "overall_poll_reverse['Disapproving_int'] = pd.to_numeric(overall_poll_reverse['Disapproving '])"
      ],
      "execution_count": 0,
      "outputs": []
    },
    {
      "metadata": {
        "id": "SJlqwJL5nVBw",
        "colab_type": "text"
      },
      "cell_type": "markdown",
      "source": [
        "## Applying Sentiment Data From Scripts"
      ]
    },
    {
      "metadata": {
        "id": "fn-PmYNHrOFE",
        "colab_type": "text"
      },
      "cell_type": "markdown",
      "source": [
        "### Helper functions:\n",
        "1. line_sentiment takes in a line and returns the polarity and subjectivity of the given line.\n",
        "2. episode_char_avg_sentiment takes in a list of lines and returns the average polarity and average subjectivity of all the given lines."
      ]
    },
    {
      "metadata": {
        "id": "rERztI60lIT6",
        "colab_type": "code",
        "colab": {
          "autoexec": {
            "startup": false,
            "wait_interval": 0
          }
        }
      },
      "cell_type": "code",
      "source": [
        "def line_sentiment(line):\n",
        "  blob = TextBlob(line)\n",
        "  avg_polarity = np.average(list(map(lambda x: x.sentiment.polarity, blob.sentences)))\n",
        "  avg_subjectivity = np.average(list(map(lambda x: x.sentiment.subjectivity, blob.sentences)))\n",
        "  return (avg_polarity, avg_subjectivity)\n",
        "\n",
        "def episode_char_avg_sentiment(lines):\n",
        "  sentiments = list(map(line_sentiment, lines))\n",
        "  avg_polarity = np.average(list(map(lambda x: x[0], sentiments)))\n",
        "  avg_subjectivity = np.average(list(map(lambda x: x[1], sentiments)))\n",
        "  return (avg_polarity, avg_subjectivity)"
      ],
      "execution_count": 0,
      "outputs": []
    },
    {
      "metadata": {
        "id": "R8iBbua2rUKW",
        "colab_type": "text"
      },
      "cell_type": "markdown",
      "source": [
        "### Calculating the Sentiment Data\n",
        "The average sentiment and subjectivity of each character per episode per season is calculated and stored in a DataFrame. This is done by looping through each season, each episode, and each unique character and using the helper functions to calculate the average sentiment and subjectivity of the character's lines."
      ]
    },
    {
      "metadata": {
        "id": "5_lAHuT8rTdL",
        "colab_type": "code",
        "colab": {
          "autoexec": {
            "startup": false,
            "wait_interval": 0
          },
          "output_extras": [
            {
              "item_id": 1
            }
          ],
          "base_uri": "https://localhost:8080/",
          "height": 198
        },
        "outputId": "33b0fcfe-d0d7-4116-85a5-462de9340183",
        "executionInfo": {
          "status": "ok",
          "timestamp": 1521779285608,
          "user_tz": 420,
          "elapsed": 142511,
          "user": {
            "displayName": "Manav Sahani",
            "photoUrl": "//lh5.googleusercontent.com/-OuY4PVl0W6s/AAAAAAAAAAI/AAAAAAAAAA0/47Nb7lg-NuQ/s50-c-k-no/photo.jpg",
            "userId": "104287893514495967247"
          }
        }
      },
      "cell_type": "code",
      "source": [
        "df_stmt = pd.DataFrame(columns = ['season', 'episode', 'ratings', 'airdate', 'character', 'avg_polarity', 'avg_subjectivity'])\n",
        "\n",
        "for season in scripts['season'].unique():\n",
        "  for episode in scripts[scripts['season'] == season]['episode'].unique():\n",
        "    episode_entries = scripts.loc[(scripts['season'] == season) & (scripts['episode'] == episode)]\n",
        "    ratings = episode_entries['ratings'].values[0]\n",
        "    airdate = episode_entries['airdate'].values[0]\n",
        "    for character in episode_entries['character'].unique():\n",
        "      lines = episode_entries.loc[episode_entries['character'] == character]['line']\n",
        "      (avg_pol, avg_sub) = episode_char_avg_sentiment(lines)\n",
        "      df_stmt = df_stmt.append({'season': season, 'episode': episode, 'ratings': ratings, 'airdate': airdate, 'character': character, 'avg_polarity': avg_pol, 'avg_subjectivity': avg_sub}, ignore_index=True)\n",
        "      \n",
        "df_stmt.head()"
      ],
      "execution_count": 16,
      "outputs": [
        {
          "output_type": "execute_result",
          "data": {
            "text/html": [
              "<div>\n",
              "<style scoped>\n",
              "    .dataframe tbody tr th:only-of-type {\n",
              "        vertical-align: middle;\n",
              "    }\n",
              "\n",
              "    .dataframe tbody tr th {\n",
              "        vertical-align: top;\n",
              "    }\n",
              "\n",
              "    .dataframe thead th {\n",
              "        text-align: right;\n",
              "    }\n",
              "</style>\n",
              "<table border=\"1\" class=\"dataframe\">\n",
              "  <thead>\n",
              "    <tr style=\"text-align: right;\">\n",
              "      <th></th>\n",
              "      <th>season</th>\n",
              "      <th>episode</th>\n",
              "      <th>ratings</th>\n",
              "      <th>airdate</th>\n",
              "      <th>character</th>\n",
              "      <th>avg_polarity</th>\n",
              "      <th>avg_subjectivity</th>\n",
              "    </tr>\n",
              "  </thead>\n",
              "  <tbody>\n",
              "    <tr>\n",
              "      <th>0</th>\n",
              "      <td>1</td>\n",
              "      <td>1</td>\n",
              "      <td>8.2</td>\n",
              "      <td>1997-08-13</td>\n",
              "      <td>Boys</td>\n",
              "      <td>0.012500</td>\n",
              "      <td>0.250000</td>\n",
              "    </tr>\n",
              "    <tr>\n",
              "      <th>1</th>\n",
              "      <td>1</td>\n",
              "      <td>1</td>\n",
              "      <td>8.2</td>\n",
              "      <td>1997-08-13</td>\n",
              "      <td>Kyle Broflovski</td>\n",
              "      <td>-0.011376</td>\n",
              "      <td>0.172284</td>\n",
              "    </tr>\n",
              "    <tr>\n",
              "      <th>2</th>\n",
              "      <td>1</td>\n",
              "      <td>1</td>\n",
              "      <td>8.2</td>\n",
              "      <td>1997-08-13</td>\n",
              "      <td>Ike Broflovski</td>\n",
              "      <td>0.072727</td>\n",
              "      <td>0.081818</td>\n",
              "    </tr>\n",
              "    <tr>\n",
              "      <th>3</th>\n",
              "      <td>1</td>\n",
              "      <td>1</td>\n",
              "      <td>8.2</td>\n",
              "      <td>1997-08-13</td>\n",
              "      <td>Eric Cartman</td>\n",
              "      <td>-0.007283</td>\n",
              "      <td>0.170141</td>\n",
              "    </tr>\n",
              "    <tr>\n",
              "      <th>4</th>\n",
              "      <td>1</td>\n",
              "      <td>1</td>\n",
              "      <td>8.2</td>\n",
              "      <td>1997-08-13</td>\n",
              "      <td>Stan Marsh</td>\n",
              "      <td>0.023655</td>\n",
              "      <td>0.174807</td>\n",
              "    </tr>\n",
              "  </tbody>\n",
              "</table>\n",
              "</div>"
            ],
            "text/plain": [
              "  season episode  ratings    airdate        character  avg_polarity  \\\n",
              "0      1       1      8.2 1997-08-13             Boys      0.012500   \n",
              "1      1       1      8.2 1997-08-13  Kyle Broflovski     -0.011376   \n",
              "2      1       1      8.2 1997-08-13   Ike Broflovski      0.072727   \n",
              "3      1       1      8.2 1997-08-13     Eric Cartman     -0.007283   \n",
              "4      1       1      8.2 1997-08-13       Stan Marsh      0.023655   \n",
              "\n",
              "   avg_subjectivity  \n",
              "0          0.250000  \n",
              "1          0.172284  \n",
              "2          0.081818  \n",
              "3          0.170141  \n",
              "4          0.174807  "
            ]
          },
          "metadata": {
            "tags": []
          },
          "execution_count": 16
        }
      ]
    },
    {
      "metadata": {
        "id": "AQit_kPdWrFh",
        "colab_type": "text"
      },
      "cell_type": "markdown",
      "source": [
        "## **Matching Poll Data and Combining Data**\n",
        "Match normalized poll data to the original imdb airdate data first because the imdb data preserve a single episode airdate per row. The algorithm finds the poll number that has an end date that corresponds to the airdate of an episode and matches the poll number to that episode"
      ]
    },
    {
      "metadata": {
        "id": "1F3_qIUb0JK6",
        "colab_type": "code",
        "colab": {
          "autoexec": {
            "startup": false,
            "wait_interval": 0
          },
          "output_extras": [
            {
              "item_id": 1
            }
          ],
          "base_uri": "https://localhost:8080/",
          "height": 198
        },
        "outputId": "d6849fd8-d32c-459f-feb9-eee7a978ccca",
        "executionInfo": {
          "status": "ok",
          "timestamp": 1521779309388,
          "user_tz": 420,
          "elapsed": 23722,
          "user": {
            "displayName": "Manav Sahani",
            "photoUrl": "//lh5.googleusercontent.com/-OuY4PVl0W6s/AAAAAAAAAAI/AAAAAAAAAA0/47Nb7lg-NuQ/s50-c-k-no/photo.jpg",
            "userId": "104287893514495967247"
          }
        }
      },
      "cell_type": "code",
      "source": [
        "by_episodes = pd.read_csv(south_park_imdb_url)\n",
        "by_episodes['airdate'] = by_episodes['airdate'].apply(standard_date)\n",
        "by_episodes['poll_num'] = ''\n",
        "\n",
        "for x in range(0, by_episodes.shape[0]):\n",
        "  if x == by_episodes.shape[0] - 1:\n",
        "    by_episodes['poll_num'][x] = (overall_poll['normalized_approval'].loc[(overall_poll['standard_datetime'] > by_episodes['airdate'][x])]).iloc[-1]\n",
        "  else:\n",
        "    poll_nums = (overall_poll['normalized_approval'].loc[(overall_poll['standard_datetime'] > by_episodes['airdate'][x]) & (overall_poll['standard_datetime'] < by_episodes['airdate'][x+1])])\n",
        "    if poll_nums.size > 0:\n",
        "      by_episodes['poll_num'][x] = poll_nums.iloc[-1]\n",
        "by_episodes.head()"
      ],
      "execution_count": 17,
      "outputs": [
        {
          "output_type": "execute_result",
          "data": {
            "text/html": [
              "<div>\n",
              "<style scoped>\n",
              "    .dataframe tbody tr th:only-of-type {\n",
              "        vertical-align: middle;\n",
              "    }\n",
              "\n",
              "    .dataframe tbody tr th {\n",
              "        vertical-align: top;\n",
              "    }\n",
              "\n",
              "    .dataframe thead th {\n",
              "        text-align: right;\n",
              "    }\n",
              "</style>\n",
              "<table border=\"1\" class=\"dataframe\">\n",
              "  <thead>\n",
              "    <tr style=\"text-align: right;\">\n",
              "      <th></th>\n",
              "      <th>season</th>\n",
              "      <th>episode</th>\n",
              "      <th>airdate</th>\n",
              "      <th>ep_name</th>\n",
              "      <th>imdb_rating</th>\n",
              "      <th>poll_num</th>\n",
              "    </tr>\n",
              "  </thead>\n",
              "  <tbody>\n",
              "    <tr>\n",
              "      <th>0</th>\n",
              "      <td>1</td>\n",
              "      <td>1</td>\n",
              "      <td>1997-08-13</td>\n",
              "      <td>Cartman Gets an Anal Probe</td>\n",
              "      <td>8.2</td>\n",
              "      <td></td>\n",
              "    </tr>\n",
              "    <tr>\n",
              "      <th>1</th>\n",
              "      <td>1</td>\n",
              "      <td>2</td>\n",
              "      <td>1997-08-20</td>\n",
              "      <td>Weight Gain 4000</td>\n",
              "      <td>7.9</td>\n",
              "      <td>60</td>\n",
              "    </tr>\n",
              "    <tr>\n",
              "      <th>2</th>\n",
              "      <td>1</td>\n",
              "      <td>3</td>\n",
              "      <td>1997-08-27</td>\n",
              "      <td>Volcano</td>\n",
              "      <td>7.9</td>\n",
              "      <td></td>\n",
              "    </tr>\n",
              "    <tr>\n",
              "      <th>3</th>\n",
              "      <td>1</td>\n",
              "      <td>4</td>\n",
              "      <td>1997-09-03</td>\n",
              "      <td>Big Gay Al's Big Gay Boat Ride</td>\n",
              "      <td>7.8</td>\n",
              "      <td>60</td>\n",
              "    </tr>\n",
              "    <tr>\n",
              "      <th>4</th>\n",
              "      <td>1</td>\n",
              "      <td>5</td>\n",
              "      <td>1997-09-10</td>\n",
              "      <td>An Elephant Makes Love to a Pig</td>\n",
              "      <td>7.8</td>\n",
              "      <td></td>\n",
              "    </tr>\n",
              "  </tbody>\n",
              "</table>\n",
              "</div>"
            ],
            "text/plain": [
              "   season  episode    airdate                          ep_name  imdb_rating  \\\n",
              "0       1        1 1997-08-13       Cartman Gets an Anal Probe          8.2   \n",
              "1       1        2 1997-08-20                 Weight Gain 4000          7.9   \n",
              "2       1        3 1997-08-27                          Volcano          7.9   \n",
              "3       1        4 1997-09-03   Big Gay Al's Big Gay Boat Ride          7.8   \n",
              "4       1        5 1997-09-10  An Elephant Makes Love to a Pig          7.8   \n",
              "\n",
              "  poll_num  \n",
              "0           \n",
              "1       60  \n",
              "2           \n",
              "3       60  \n",
              "4           "
            ]
          },
          "metadata": {
            "tags": []
          },
          "execution_count": 17
        }
      ]
    },
    {
      "metadata": {
        "id": "__5epYm13zKW",
        "colab_type": "text"
      },
      "cell_type": "markdown",
      "source": [
        "Match poll number from imdb data to sentiment analysis data using the poll dates and airdates."
      ]
    },
    {
      "metadata": {
        "id": "_up8TmAQtRpF",
        "colab_type": "code",
        "colab": {
          "autoexec": {
            "startup": false,
            "wait_interval": 0
          }
        }
      },
      "cell_type": "code",
      "source": [
        "df_stmt['poll_num'] = \"\"\n",
        "for i in range(0, by_episodes.shape[0]):\n",
        "  df_stmt['poll_num'][df_stmt['airdate'] == by_episodes['airdate'][i]] = by_episodes['poll_num'][i]"
      ],
      "execution_count": 0,
      "outputs": []
    },
    {
      "metadata": {
        "id": "HwVke7ii4Oae",
        "colab_type": "text"
      },
      "cell_type": "markdown",
      "source": [
        "Take out rows with no poll numbers."
      ]
    },
    {
      "metadata": {
        "id": "c6Sue2Ty0Eak",
        "colab_type": "code",
        "colab": {
          "autoexec": {
            "startup": false,
            "wait_interval": 0
          },
          "output_extras": [
            {
              "item_id": 1
            }
          ],
          "base_uri": "https://localhost:8080/",
          "height": 198
        },
        "outputId": "c2352445-0257-4964-fd4b-d97a6e44ef4c",
        "executionInfo": {
          "status": "ok",
          "timestamp": 1521779341509,
          "user_tz": 420,
          "elapsed": 293,
          "user": {
            "displayName": "Manav Sahani",
            "photoUrl": "//lh5.googleusercontent.com/-OuY4PVl0W6s/AAAAAAAAAAI/AAAAAAAAAA0/47Nb7lg-NuQ/s50-c-k-no/photo.jpg",
            "userId": "104287893514495967247"
          }
        }
      },
      "cell_type": "code",
      "source": [
        "df_stmt = df_stmt[df_stmt['poll_num'] != \"\"]\n",
        "df_stmt.head()"
      ],
      "execution_count": 19,
      "outputs": [
        {
          "output_type": "execute_result",
          "data": {
            "text/html": [
              "<div>\n",
              "<style scoped>\n",
              "    .dataframe tbody tr th:only-of-type {\n",
              "        vertical-align: middle;\n",
              "    }\n",
              "\n",
              "    .dataframe tbody tr th {\n",
              "        vertical-align: top;\n",
              "    }\n",
              "\n",
              "    .dataframe thead th {\n",
              "        text-align: right;\n",
              "    }\n",
              "</style>\n",
              "<table border=\"1\" class=\"dataframe\">\n",
              "  <thead>\n",
              "    <tr style=\"text-align: right;\">\n",
              "      <th></th>\n",
              "      <th>season</th>\n",
              "      <th>episode</th>\n",
              "      <th>ratings</th>\n",
              "      <th>airdate</th>\n",
              "      <th>character</th>\n",
              "      <th>avg_polarity</th>\n",
              "      <th>avg_subjectivity</th>\n",
              "      <th>poll_num</th>\n",
              "    </tr>\n",
              "  </thead>\n",
              "  <tbody>\n",
              "    <tr>\n",
              "      <th>24</th>\n",
              "      <td>1</td>\n",
              "      <td>2</td>\n",
              "      <td>7.9</td>\n",
              "      <td>1997-08-20</td>\n",
              "      <td>Kyle Broflovski</td>\n",
              "      <td>0.064593</td>\n",
              "      <td>0.250926</td>\n",
              "      <td>60</td>\n",
              "    </tr>\n",
              "    <tr>\n",
              "      <th>25</th>\n",
              "      <td>1</td>\n",
              "      <td>2</td>\n",
              "      <td>7.9</td>\n",
              "      <td>1997-08-20</td>\n",
              "      <td>Stan Marsh</td>\n",
              "      <td>0.038760</td>\n",
              "      <td>0.335099</td>\n",
              "      <td>60</td>\n",
              "    </tr>\n",
              "    <tr>\n",
              "      <th>26</th>\n",
              "      <td>1</td>\n",
              "      <td>2</td>\n",
              "      <td>7.9</td>\n",
              "      <td>1997-08-20</td>\n",
              "      <td>Eric Cartman</td>\n",
              "      <td>-0.008236</td>\n",
              "      <td>0.215424</td>\n",
              "      <td>60</td>\n",
              "    </tr>\n",
              "    <tr>\n",
              "      <th>27</th>\n",
              "      <td>1</td>\n",
              "      <td>2</td>\n",
              "      <td>7.9</td>\n",
              "      <td>1997-08-20</td>\n",
              "      <td>Garrison</td>\n",
              "      <td>0.122958</td>\n",
              "      <td>0.283802</td>\n",
              "      <td>60</td>\n",
              "    </tr>\n",
              "    <tr>\n",
              "      <th>28</th>\n",
              "      <td>1</td>\n",
              "      <td>2</td>\n",
              "      <td>7.9</td>\n",
              "      <td>1997-08-20</td>\n",
              "      <td>Wendy Testaburger</td>\n",
              "      <td>0.075320</td>\n",
              "      <td>0.108849</td>\n",
              "      <td>60</td>\n",
              "    </tr>\n",
              "  </tbody>\n",
              "</table>\n",
              "</div>"
            ],
            "text/plain": [
              "   season episode  ratings    airdate          character  avg_polarity  \\\n",
              "24      1       2      7.9 1997-08-20    Kyle Broflovski      0.064593   \n",
              "25      1       2      7.9 1997-08-20         Stan Marsh      0.038760   \n",
              "26      1       2      7.9 1997-08-20       Eric Cartman     -0.008236   \n",
              "27      1       2      7.9 1997-08-20           Garrison      0.122958   \n",
              "28      1       2      7.9 1997-08-20  Wendy Testaburger      0.075320   \n",
              "\n",
              "    avg_subjectivity poll_num  \n",
              "24          0.250926       60  \n",
              "25          0.335099       60  \n",
              "26          0.215424       60  \n",
              "27          0.283802       60  \n",
              "28          0.108849       60  "
            ]
          },
          "metadata": {
            "tags": []
          },
          "execution_count": 19
        }
      ]
    },
    {
      "metadata": {
        "id": "jpXH774j1UmM",
        "colab_type": "text"
      },
      "cell_type": "markdown",
      "source": [
        "# **4. Data Analysis and Visualization :**\n"
      ]
    },
    {
      "metadata": {
        "id": "iINiXsyzuv4P",
        "colab_type": "text"
      },
      "cell_type": "markdown",
      "source": [
        "## **Scatter Plot Graph of Presidental Approval Rates**"
      ]
    },
    {
      "metadata": {
        "id": "_MUaFgQqEwlf",
        "colab_type": "text"
      },
      "cell_type": "markdown",
      "source": [
        "This graph shows the presidential approval rate over time. Each significant sudden change indicate that a new president has been elected (~0: Clinton; ~10: Bush; ~12.3: Obama; ~14.8: Trump).\n",
        "\n"
      ]
    },
    {
      "metadata": {
        "id": "dO-McQIwbvF9",
        "colab_type": "code",
        "colab": {
          "autoexec": {
            "startup": false,
            "wait_interval": 0
          },
          "output_extras": [
            {
              "item_id": 1
            },
            {
              "item_id": 2
            }
          ],
          "base_uri": "https://localhost:8080/",
          "height": 550
        },
        "outputId": "e43b680c-0721-4cd1-8f31-f20578545ba9",
        "executionInfo": {
          "status": "ok",
          "timestamp": 1521779342315,
          "user_tz": 420,
          "elapsed": 684,
          "user": {
            "displayName": "Manav Sahani",
            "photoUrl": "//lh5.googleusercontent.com/-OuY4PVl0W6s/AAAAAAAAAAI/AAAAAAAAAA0/47Nb7lg-NuQ/s50-c-k-no/photo.jpg",
            "userId": "104287893514495967247"
          }
        }
      },
      "cell_type": "code",
      "source": [
        "ax = overall_poll_reverse.plot.scatter(x=\"standard_datetime_num\",y=\"int_approval\", c='green', alpha=0.3)\n",
        "ax.set_xlabel('Date')\n",
        "ax.set_ylabel('Percent Approval')"
      ],
      "execution_count": 20,
      "outputs": [
        {
          "output_type": "execute_result",
          "data": {
            "text/plain": [
              "Text(0,0.5,'Percent Approval')"
            ]
          },
          "metadata": {
            "tags": []
          },
          "execution_count": 20
        },
        {
          "output_type": "display_data",
          "data": {
            "image/png": "[encoded data removed]",
            "text/plain": [
              "<matplotlib.figure.Figure at 0x7f8ce22fc160>"
            ]
          },
          "metadata": {
            "tags": []
          }
        }
      ]
    },
    {
      "metadata": {
        "id": "NlWRvCi0rhXZ",
        "colab_type": "text"
      },
      "cell_type": "markdown",
      "source": [
        "## Getting Sentiment Data Over Time for a Character\n",
        "Finds a slice of the sentiment DataFrame given a character name."
      ]
    },
    {
      "metadata": {
        "id": "3rSDFfZ2clcT",
        "colab_type": "code",
        "colab": {
          "autoexec": {
            "startup": false,
            "wait_interval": 0
          }
        }
      },
      "cell_type": "code",
      "source": [
        "def get_character_sentiment(character_name):\n",
        "  df2 = df_stmt.loc[(df_stmt['character'] == character_name)]\n",
        "  df2.groupby(['season', 'episode'])[['avg_polarity']].mean().reset_index()\n",
        "  df3 = df2.groupby(['season', 'episode'])[['avg_polarity']].mean().reset_index()\n",
        "  im = pd.read_csv(south_park_imdb_url)\n",
        "  return im.merge(df3, on=['season', 'episode'], how='left')['avg_polarity'].fillna(0)"
      ],
      "execution_count": 0,
      "outputs": []
    },
    {
      "metadata": {
        "id": "JBclWjYv1dzx",
        "colab_type": "text"
      },
      "cell_type": "markdown",
      "source": [
        "### Sample Character Sentiment Plots over Time\n",
        "The graphs below illustrate the change in sentiments for a character over 250 episodes of South Park.\n",
        "1. Kyle Broflovski: One of the main characters of the show. He is often noted for being a member of the only Jewish family in South Park and known for his intelligence.\n",
        "2. Ike Broflovski: Kyle's younger brother who does not talk at all save for a few episodes (he is a check for neutral sentiment).\n",
        "3. Eric Cartman: Another one of the main characters of the show. He is sometimes the main antagonist of an episode and the other main characters often wonder why they hang out with him. He has strained relationships with his friends many times.\n",
        "4. Mr. Herbert Garrison: A former fourth-grade teacher at South Park Elementary before running for and being elected as the 45th President of South Park. Creators of South Park use him to represent President Trump."
      ]
    },
    {
      "metadata": {
        "id": "WsqThWTXtnij",
        "colab_type": "code",
        "colab": {
          "autoexec": {
            "startup": false,
            "wait_interval": 0
          },
          "output_extras": [
            {
              "item_id": 1
            }
          ],
          "base_uri": "https://localhost:8080/",
          "height": 558
        },
        "outputId": "62e1baeb-ce53-4f15-a8ea-e4c0b8d241c4",
        "executionInfo": {
          "status": "ok",
          "timestamp": 1521779343662,
          "user_tz": 420,
          "elapsed": 899,
          "user": {
            "displayName": "Manav Sahani",
            "photoUrl": "//lh5.googleusercontent.com/-OuY4PVl0W6s/AAAAAAAAAAI/AAAAAAAAAA0/47Nb7lg-NuQ/s50-c-k-no/photo.jpg",
            "userId": "104287893514495967247"
          }
        }
      },
      "cell_type": "code",
      "source": [
        "plot1 = plt.figure()\n",
        "ax1 = plot1.add_subplot(111)\n",
        "ax1.set_xlabel('Time (in episodes)', fontsize='x-large')\n",
        "ax1.set_ylabel('Sentiment Analysis (-1 to 1)', fontsize='x-large')\n",
        "plot1 = get_character_sentiment('Kyle Broflovski').plot(title='Sentiment Analysis of Broflovski Brothers', ylim=(-0.5,0.5), label='Kyle Broflovski', ax=ax1, linewidth=2)\n",
        "get_character_sentiment('Ike Broflovski').plot(ax=ax1, label='Ike Broflovski', linewidth=2)\n",
        "\n",
        "legend1 = plt.legend()\n",
        "\n",
        "for line in legend1.get_lines():\n",
        "  line.set_linewidth(5)\n",
        "\n",
        "for text in legend1.get_texts():\n",
        "  text.set_fontsize('x-large')"
      ],
      "execution_count": 22,
      "outputs": [
        {
          "output_type": "display_data",
          "data": {
            "image/png": "[encoded data removed]",
            "text/plain": [
              "<matplotlib.figure.Figure at 0x7f8ce2267780>"
            ]
          },
          "metadata": {
            "tags": []
          }
        }
      ]
    },
    {
      "metadata": {
        "id": "_NdU0H5VvoPw",
        "colab_type": "code",
        "colab": {
          "autoexec": {
            "startup": false,
            "wait_interval": 0
          },
          "output_extras": [
            {
              "item_id": 1
            }
          ],
          "base_uri": "https://localhost:8080/",
          "height": 553
        },
        "outputId": "a0306a70-8bf9-41a4-c60f-9e1fd0310bbd",
        "executionInfo": {
          "status": "ok",
          "timestamp": 1521779344420,
          "user_tz": 420,
          "elapsed": 717,
          "user": {
            "displayName": "Manav Sahani",
            "photoUrl": "//lh5.googleusercontent.com/-OuY4PVl0W6s/AAAAAAAAAAI/AAAAAAAAAA0/47Nb7lg-NuQ/s50-c-k-no/photo.jpg",
            "userId": "104287893514495967247"
          }
        }
      },
      "cell_type": "code",
      "source": [
        "plot2 = plt.figure()\n",
        "ax2 = plot2.add_subplot(111)\n",
        "ax2.set_xlabel('Time (in episodes)')\n",
        "ax2.set_ylabel('Sentiment Analysis (-1 to 1)')\n",
        "plot2 = get_character_sentiment('Eric Cartman').plot(title='Sentiment Analysis of Eric Cartman', ylim=(-0.5,0.5), label='Eric Cartman', ax=ax2, linewidth=2, c='g')\n",
        "\n",
        "legend2 = plt.legend()\n",
        "\n",
        "for line in legend2.get_lines():\n",
        "  line.set_linewidth(5)\n",
        "\n",
        "for text in legend2.get_texts():\n",
        "  text.set_fontsize('x-large')"
      ],
      "execution_count": 23,
      "outputs": [
        {
          "output_type": "display_data",
          "data": {
            "image/png": "[encoded data removed]",
            "text/plain": [
              "<matplotlib.figure.Figure at 0x7f8ce227d828>"
            ]
          },
          "metadata": {
            "tags": []
          }
        }
      ]
    },
    {
      "metadata": {
        "id": "9VwQaDG_4PUW",
        "colab_type": "code",
        "colab": {
          "autoexec": {
            "startup": false,
            "wait_interval": 0
          },
          "output_extras": [
            {
              "item_id": 1
            }
          ],
          "base_uri": "https://localhost:8080/",
          "height": 553
        },
        "outputId": "494070be-a9fc-4be0-e0cb-c0a996aced7b",
        "executionInfo": {
          "status": "ok",
          "timestamp": 1521779345204,
          "user_tz": 420,
          "elapsed": 701,
          "user": {
            "displayName": "Manav Sahani",
            "photoUrl": "//lh5.googleusercontent.com/-OuY4PVl0W6s/AAAAAAAAAAI/AAAAAAAAAA0/47Nb7lg-NuQ/s50-c-k-no/photo.jpg",
            "userId": "104287893514495967247"
          }
        }
      },
      "cell_type": "code",
      "source": [
        "plot3 = plt.figure()\n",
        "ax3 = plot3.add_subplot(111)\n",
        "ax3.set_xlabel('Time (in episodes)')\n",
        "ax3.set_ylabel('Sentiment Analysis (-1 to 1)')\n",
        "plot3 = get_character_sentiment('Garrison').plot(title='Sentiment Analysis of Mr. Garrison', ylim=(-0.75,0.75), label='Herbert Garison', ax=ax3, linewidth=2, c='orange')\n",
        "\n",
        "legend3 = plt.legend()\n",
        "\n",
        "for line in legend3.get_lines():\n",
        "  line.set_linewidth(5)\n",
        "\n",
        "for text in legend3.get_texts():\n",
        "  text.set_fontsize('x-large')"
      ],
      "execution_count": 24,
      "outputs": [
        {
          "output_type": "display_data",
          "data": {
            "image/png": "[encoded data removed]",
            "text/plain": [
              "<matplotlib.figure.Figure at 0x7f8ce2252400>"
            ]
          },
          "metadata": {
            "tags": []
          }
        }
      ]
    },
    {
      "metadata": {
        "id": "OSFT7Kq1WwKa",
        "colab_type": "text"
      },
      "cell_type": "markdown",
      "source": [
        "# **Word Frequency**"
      ]
    },
    {
      "metadata": {
        "id": "OYoKy4-YRFyc",
        "colab_type": "text"
      },
      "cell_type": "markdown",
      "source": [
        "### Helper Classes\n",
        "The following classes are used to store the list of words vs. frequencies and the list of nouns vs. frequencies. This is helpful for storing the objects in a DataFrame."
      ]
    },
    {
      "metadata": {
        "id": "fPNyFfW1RFBg",
        "colab_type": "code",
        "colab": {
          "autoexec": {
            "startup": false,
            "wait_interval": 0
          }
        }
      },
      "cell_type": "code",
      "source": [
        "class WordCounter(object):\n",
        "  __counter = None\n",
        "  \n",
        "  def __init__(self, c):\n",
        "    self.__counter = c\n",
        "    \n",
        "  def get_counter(self):\n",
        "    return self.__counter\n",
        "\n",
        "class NounCounter(object):\n",
        "  __dict = None\n",
        "  \n",
        "  def __init__(self, l):\n",
        "    self.__dict = l\n",
        "    \n",
        "  def get_dict(self):\n",
        "    return self.__dict"
      ],
      "execution_count": 0,
      "outputs": []
    },
    {
      "metadata": {
        "id": "1FEo2orZQ1BZ",
        "colab_type": "text"
      },
      "cell_type": "markdown",
      "source": [
        "### Calculating Word Frequency\n",
        "All the lines in an episode's script are joined together, then the Counter class in the Python Collections package is used to calculate the frequencies of each unique word in the script. Stopwords, such as \"I\", \"YOU\", and \"THIS\", are filtered out. The list of stopwords comes from the NLTK package."
      ]
    },
    {
      "metadata": {
        "id": "Ux8QqsELnt95",
        "colab_type": "code",
        "colab": {
          "autoexec": {
            "startup": false,
            "wait_interval": 0
          }
        }
      },
      "cell_type": "code",
      "source": [
        "def stringify(line_list):\n",
        "  text = ' '.join(line_list)\n",
        "  return text\n",
        "\n",
        "def word_counter(text):\n",
        "  word_list = re.findall(r'\\w+', text)\n",
        "  filtered_words = [word.upper().strip() for word in word_list if word.lower() not in stopwords.words('english')]\n",
        "  return WordCounter(Counter(filtered_words))"
      ],
      "execution_count": 0,
      "outputs": []
    },
    {
      "metadata": {
        "id": "h1cpXNSHRrQ-",
        "colab_type": "text"
      },
      "cell_type": "markdown",
      "source": [
        "### Calculating Noun Phrase Frequency\n",
        "All the lines in an episode's script are joined together, then the noun counts method in the TextBlob package is used to identify and calculate the number of times unique noun phrases.\n",
        "There are specific noun phrases, such \"GUN CONTROL\", \"REPUBLICAN\", and \"POT OF GOLD\", that may be interesting to analyze."
      ]
    },
    {
      "metadata": {
        "id": "qOtFPjCzrxgU",
        "colab_type": "code",
        "colab": {
          "autoexec": {
            "startup": false,
            "wait_interval": 0
          }
        }
      },
      "cell_type": "code",
      "source": [
        "# Does a word count for each noun in the specified episode\n",
        "def count_nouns(season, episode):\n",
        "  text = stringify(scripts.loc[(scripts['season'] == season) & (scripts['episode'] == episode)]['line'].values.tolist())\n",
        "  blob = TextBlob(text)\n",
        "  noun_counts = {noun.upper(): blob.noun_phrases.count(noun) for noun in set(blob.noun_phrases)}\n",
        "  return NounCounter(noun_counts)"
      ],
      "execution_count": 0,
      "outputs": []
    },
    {
      "metadata": {
        "id": "NfTyeq5cSiM0",
        "colab_type": "text"
      },
      "cell_type": "markdown",
      "source": [
        "### Applying Word/Noun Frequency Analysis to South Park\n",
        "The above unique word frequency and noun phrase frequency calculating methods are used to store the counts for each episode."
      ]
    },
    {
      "metadata": {
        "id": "X74IwegqQc7V",
        "colab_type": "code",
        "colab": {
          "autoexec": {
            "startup": false,
            "wait_interval": 0
          },
          "output_extras": [
            {
              "item_id": 1
            }
          ],
          "base_uri": "https://localhost:8080/",
          "height": 198
        },
        "outputId": "ef5be3cb-91e1-43f8-f2aa-2b1fedc19e8f",
        "executionInfo": {
          "status": "ok",
          "timestamp": 1521779502876,
          "user_tz": 420,
          "elapsed": 156509,
          "user": {
            "displayName": "Manav Sahani",
            "photoUrl": "//lh5.googleusercontent.com/-OuY4PVl0W6s/AAAAAAAAAAI/AAAAAAAAAA0/47Nb7lg-NuQ/s50-c-k-no/photo.jpg",
            "userId": "104287893514495967247"
          }
        }
      },
      "cell_type": "code",
      "source": [
        "word_freq = south_park_imdb.copy()\n",
        "word_freq['word_counter'] = np.nan\n",
        "word_freq['noun_counter'] = np.nan\n",
        "\n",
        "for row in south_park_imdb.iterrows():\n",
        "  row = row[1]\n",
        "  season = row['season']\n",
        "  episode = row['episode']\n",
        "  text = stringify(scripts[(scripts['season'] == season) & (scripts['episode'] == episode)]['line'].values.tolist())\n",
        "  word_counts = word_counter(text)\n",
        "  word_freq.loc[(word_freq['season'] == season) & (word_freq['episode'] == episode), 'word_counter'] = word_counts\n",
        "  word_freq.loc[(word_freq['season'] == season) & (word_freq['episode'] == episode), 'noun_counter'] = count_nouns(season, episode)\n",
        "\n",
        "copy_df = word_freq.copy()\n",
        "word_freq.head()"
      ],
      "execution_count": 28,
      "outputs": [
        {
          "output_type": "execute_result",
          "data": {
            "text/html": [
              "<div>\n",
              "<style scoped>\n",
              "    .dataframe tbody tr th:only-of-type {\n",
              "        vertical-align: middle;\n",
              "    }\n",
              "\n",
              "    .dataframe tbody tr th {\n",
              "        vertical-align: top;\n",
              "    }\n",
              "\n",
              "    .dataframe thead th {\n",
              "        text-align: right;\n",
              "    }\n",
              "</style>\n",
              "<table border=\"1\" class=\"dataframe\">\n",
              "  <thead>\n",
              "    <tr style=\"text-align: right;\">\n",
              "      <th></th>\n",
              "      <th>season</th>\n",
              "      <th>episode</th>\n",
              "      <th>airdate</th>\n",
              "      <th>ep_name</th>\n",
              "      <th>imdb_rating</th>\n",
              "      <th>word_counter</th>\n",
              "      <th>noun_counter</th>\n",
              "    </tr>\n",
              "  </thead>\n",
              "  <tbody>\n",
              "    <tr>\n",
              "      <th>0</th>\n",
              "      <td>1</td>\n",
              "      <td>1</td>\n",
              "      <td>13-Aug-97</td>\n",
              "      <td>Cartman Gets an Anal Probe</td>\n",
              "      <td>8.2</td>\n",
              "      <td>&lt;__main__.WordCounter object at 0x7f8ce212f240&gt;</td>\n",
              "      <td>&lt;__main__.NounCounter object at 0x7f8ce21f4e48&gt;</td>\n",
              "    </tr>\n",
              "    <tr>\n",
              "      <th>1</th>\n",
              "      <td>1</td>\n",
              "      <td>2</td>\n",
              "      <td>20-Aug-97</td>\n",
              "      <td>Weight Gain 4000</td>\n",
              "      <td>7.9</td>\n",
              "      <td>&lt;__main__.WordCounter object at 0x7f8cdd4fb9e8&gt;</td>\n",
              "      <td>&lt;__main__.NounCounter object at 0x7f8cdd4cb278&gt;</td>\n",
              "    </tr>\n",
              "    <tr>\n",
              "      <th>2</th>\n",
              "      <td>1</td>\n",
              "      <td>3</td>\n",
              "      <td>27-Aug-97</td>\n",
              "      <td>Volcano</td>\n",
              "      <td>7.9</td>\n",
              "      <td>&lt;__main__.WordCounter object at 0x7f8cdd4c6908&gt;</td>\n",
              "      <td>&lt;__main__.NounCounter object at 0x7f8cdd4a27b8&gt;</td>\n",
              "    </tr>\n",
              "    <tr>\n",
              "      <th>3</th>\n",
              "      <td>1</td>\n",
              "      <td>4</td>\n",
              "      <td>3-Sep-97</td>\n",
              "      <td>Big Gay Al's Big Gay Boat Ride</td>\n",
              "      <td>7.8</td>\n",
              "      <td>&lt;__main__.WordCounter object at 0x7f8cdd51c8d0&gt;</td>\n",
              "      <td>&lt;__main__.NounCounter object at 0x7f8cdd56d7b8&gt;</td>\n",
              "    </tr>\n",
              "    <tr>\n",
              "      <th>4</th>\n",
              "      <td>1</td>\n",
              "      <td>5</td>\n",
              "      <td>10-Sep-97</td>\n",
              "      <td>An Elephant Makes Love to a Pig</td>\n",
              "      <td>7.8</td>\n",
              "      <td>&lt;__main__.WordCounter object at 0x7f8cdd4ae198&gt;</td>\n",
              "      <td>&lt;__main__.NounCounter object at 0x7f8cdd56f978&gt;</td>\n",
              "    </tr>\n",
              "  </tbody>\n",
              "</table>\n",
              "</div>"
            ],
            "text/plain": [
              "   season  episode    airdate                          ep_name  imdb_rating  \\\n",
              "0       1        1  13-Aug-97       Cartman Gets an Anal Probe          8.2   \n",
              "1       1        2  20-Aug-97                 Weight Gain 4000          7.9   \n",
              "2       1        3  27-Aug-97                          Volcano          7.9   \n",
              "3       1        4   3-Sep-97   Big Gay Al's Big Gay Boat Ride          7.8   \n",
              "4       1        5  10-Sep-97  An Elephant Makes Love to a Pig          7.8   \n",
              "\n",
              "                                      word_counter  \\\n",
              "0  <__main__.WordCounter object at 0x7f8ce212f240>   \n",
              "1  <__main__.WordCounter object at 0x7f8cdd4fb9e8>   \n",
              "2  <__main__.WordCounter object at 0x7f8cdd4c6908>   \n",
              "3  <__main__.WordCounter object at 0x7f8cdd51c8d0>   \n",
              "4  <__main__.WordCounter object at 0x7f8cdd4ae198>   \n",
              "\n",
              "                                      noun_counter  \n",
              "0  <__main__.NounCounter object at 0x7f8ce21f4e48>  \n",
              "1  <__main__.NounCounter object at 0x7f8cdd4cb278>  \n",
              "2  <__main__.NounCounter object at 0x7f8cdd4a27b8>  \n",
              "3  <__main__.NounCounter object at 0x7f8cdd56d7b8>  \n",
              "4  <__main__.NounCounter object at 0x7f8cdd56f978>  "
            ]
          },
          "metadata": {
            "tags": []
          },
          "execution_count": 28
        }
      ]
    },
    {
      "metadata": {
        "id": "37HnmxWQzQPw",
        "colab_type": "code",
        "colab": {
          "autoexec": {
            "startup": false,
            "wait_interval": 0
          },
          "output_extras": [
            {
              "item_id": 1
            }
          ],
          "base_uri": "https://localhost:8080/",
          "height": 281
        },
        "outputId": "b5866b82-9e0d-4542-9870-1c70694d57af",
        "executionInfo": {
          "status": "ok",
          "timestamp": 1521779504319,
          "user_tz": 420,
          "elapsed": 1405,
          "user": {
            "displayName": "Manav Sahani",
            "photoUrl": "//lh5.googleusercontent.com/-OuY4PVl0W6s/AAAAAAAAAAI/AAAAAAAAAA0/47Nb7lg-NuQ/s50-c-k-no/photo.jpg",
            "userId": "104287893514495967247"
          }
        }
      },
      "cell_type": "code",
      "source": [
        "word_freq = copy_df.copy()\n",
        "\n",
        "word_freq['airdate'] = word_freq['airdate'].apply(standard_date)\n",
        "word_freq['poll_num'] = \"\"\n",
        "for i in range(0, by_episodes.shape[0]):\n",
        "  word_freq.loc[word_freq['airdate'] == by_episodes['airdate'][i], 'poll_num'] = by_episodes['poll_num'][i]\n",
        "word_freq = word_freq[word_freq['poll_num'] != \"\"]\n",
        "\n",
        "word_freq['poll_num'] = word_freq['poll_num'].apply(pd.to_numeric)\n",
        "\n",
        "word_freq.head()"
      ],
      "execution_count": 29,
      "outputs": [
        {
          "output_type": "execute_result",
          "data": {
            "text/html": [
              "<div>\n",
              "<style scoped>\n",
              "    .dataframe tbody tr th:only-of-type {\n",
              "        vertical-align: middle;\n",
              "    }\n",
              "\n",
              "    .dataframe tbody tr th {\n",
              "        vertical-align: top;\n",
              "    }\n",
              "\n",
              "    .dataframe thead th {\n",
              "        text-align: right;\n",
              "    }\n",
              "</style>\n",
              "<table border=\"1\" class=\"dataframe\">\n",
              "  <thead>\n",
              "    <tr style=\"text-align: right;\">\n",
              "      <th></th>\n",
              "      <th>season</th>\n",
              "      <th>episode</th>\n",
              "      <th>airdate</th>\n",
              "      <th>ep_name</th>\n",
              "      <th>imdb_rating</th>\n",
              "      <th>word_counter</th>\n",
              "      <th>noun_counter</th>\n",
              "      <th>poll_num</th>\n",
              "    </tr>\n",
              "  </thead>\n",
              "  <tbody>\n",
              "    <tr>\n",
              "      <th>1</th>\n",
              "      <td>1</td>\n",
              "      <td>2</td>\n",
              "      <td>1997-08-20</td>\n",
              "      <td>Weight Gain 4000</td>\n",
              "      <td>7.9</td>\n",
              "      <td>&lt;__main__.WordCounter object at 0x7f8cdd4fb9e8&gt;</td>\n",
              "      <td>&lt;__main__.NounCounter object at 0x7f8cdd4cb278&gt;</td>\n",
              "      <td>60</td>\n",
              "    </tr>\n",
              "    <tr>\n",
              "      <th>3</th>\n",
              "      <td>1</td>\n",
              "      <td>4</td>\n",
              "      <td>1997-09-03</td>\n",
              "      <td>Big Gay Al's Big Gay Boat Ride</td>\n",
              "      <td>7.8</td>\n",
              "      <td>&lt;__main__.WordCounter object at 0x7f8cdd51c8d0&gt;</td>\n",
              "      <td>&lt;__main__.NounCounter object at 0x7f8cdd56d7b8&gt;</td>\n",
              "      <td>60</td>\n",
              "    </tr>\n",
              "    <tr>\n",
              "      <th>5</th>\n",
              "      <td>1</td>\n",
              "      <td>6</td>\n",
              "      <td>1997-09-17</td>\n",
              "      <td>Death</td>\n",
              "      <td>8.2</td>\n",
              "      <td>&lt;__main__.WordCounter object at 0x7f8cdd45a748&gt;</td>\n",
              "      <td>&lt;__main__.NounCounter object at 0x7f8cdd47acc0&gt;</td>\n",
              "      <td>57</td>\n",
              "    </tr>\n",
              "    <tr>\n",
              "      <th>6</th>\n",
              "      <td>1</td>\n",
              "      <td>7</td>\n",
              "      <td>1997-10-29</td>\n",
              "      <td>Pinkeye</td>\n",
              "      <td>8.5</td>\n",
              "      <td>&lt;__main__.WordCounter object at 0x7f8cdd4831d0&gt;</td>\n",
              "      <td>&lt;__main__.NounCounter object at 0x7f8cdd41c470&gt;</td>\n",
              "      <td>58</td>\n",
              "    </tr>\n",
              "    <tr>\n",
              "      <th>7</th>\n",
              "      <td>1</td>\n",
              "      <td>8</td>\n",
              "      <td>1997-11-19</td>\n",
              "      <td>Starvin' Marvin</td>\n",
              "      <td>8.2</td>\n",
              "      <td>&lt;__main__.WordCounter object at 0x7f8cdd7303c8&gt;</td>\n",
              "      <td>&lt;__main__.NounCounter object at 0x7f8cdd4c09b0&gt;</td>\n",
              "      <td>60</td>\n",
              "    </tr>\n",
              "  </tbody>\n",
              "</table>\n",
              "</div>"
            ],
            "text/plain": [
              "   season  episode    airdate                         ep_name  imdb_rating  \\\n",
              "1       1        2 1997-08-20                Weight Gain 4000          7.9   \n",
              "3       1        4 1997-09-03  Big Gay Al's Big Gay Boat Ride          7.8   \n",
              "5       1        6 1997-09-17                           Death          8.2   \n",
              "6       1        7 1997-10-29                         Pinkeye          8.5   \n",
              "7       1        8 1997-11-19                 Starvin' Marvin          8.2   \n",
              "\n",
              "                                      word_counter  \\\n",
              "1  <__main__.WordCounter object at 0x7f8cdd4fb9e8>   \n",
              "3  <__main__.WordCounter object at 0x7f8cdd51c8d0>   \n",
              "5  <__main__.WordCounter object at 0x7f8cdd45a748>   \n",
              "6  <__main__.WordCounter object at 0x7f8cdd4831d0>   \n",
              "7  <__main__.WordCounter object at 0x7f8cdd7303c8>   \n",
              "\n",
              "                                      noun_counter  poll_num  \n",
              "1  <__main__.NounCounter object at 0x7f8cdd4cb278>        60  \n",
              "3  <__main__.NounCounter object at 0x7f8cdd56d7b8>        60  \n",
              "5  <__main__.NounCounter object at 0x7f8cdd47acc0>        57  \n",
              "6  <__main__.NounCounter object at 0x7f8cdd41c470>        58  \n",
              "7  <__main__.NounCounter object at 0x7f8cdd4c09b0>        60  "
            ]
          },
          "metadata": {
            "tags": []
          },
          "execution_count": 29
        }
      ]
    },
    {
      "metadata": {
        "id": "SrMQ3CF1ZjmP",
        "colab_type": "code",
        "colab": {
          "autoexec": {
            "startup": false,
            "wait_interval": 0
          },
          "output_extras": [
            {
              "item_id": 1
            }
          ],
          "base_uri": "https://localhost:8080/",
          "height": 401
        },
        "outputId": "013ebcf2-c495-4f72-8143-4e21b30f2189",
        "executionInfo": {
          "status": "ok",
          "timestamp": 1521779511698,
          "user_tz": 420,
          "elapsed": 7331,
          "user": {
            "displayName": "Manav Sahani",
            "photoUrl": "//lh5.googleusercontent.com/-OuY4PVl0W6s/AAAAAAAAAAI/AAAAAAAAAA0/47Nb7lg-NuQ/s50-c-k-no/photo.jpg",
            "userId": "104287893514495967247"
          }
        }
      },
      "cell_type": "code",
      "source": [
        "def append_word_freq(df, word):\n",
        "  for row in df.iterrows():\n",
        "    row = row[1]\n",
        "    df.loc[(df['season'] == row['season']) & (df['episode'] == row['episode']), word.upper()] = row['word_counter'].get_counter().get(word.upper())\n",
        "  df[word.upper()] = df[word.upper()].fillna(0)\n",
        "\n",
        "def append_list_freq(l):\n",
        "  for word in l:\n",
        "    append_word_freq(word_freq, word.upper())\n",
        "\n",
        "append_list_freq(['election', 'vote', 'fuck', 'shit', 'trust', 'hello', 'mexico', 'canada', 'jobs'])\n",
        "\n",
        "#word_freq.plot.scatter(x=word, y='poll_num')\n",
        "word_freq.head()"
      ],
      "execution_count": 30,
      "outputs": [
        {
          "output_type": "execute_result",
          "data": {
            "text/html": [
              "<div>\n",
              "<style scoped>\n",
              "    .dataframe tbody tr th:only-of-type {\n",
              "        vertical-align: middle;\n",
              "    }\n",
              "\n",
              "    .dataframe tbody tr th {\n",
              "        vertical-align: top;\n",
              "    }\n",
              "\n",
              "    .dataframe thead th {\n",
              "        text-align: right;\n",
              "    }\n",
              "</style>\n",
              "<table border=\"1\" class=\"dataframe\">\n",
              "  <thead>\n",
              "    <tr style=\"text-align: right;\">\n",
              "      <th></th>\n",
              "      <th>season</th>\n",
              "      <th>episode</th>\n",
              "      <th>airdate</th>\n",
              "      <th>ep_name</th>\n",
              "      <th>imdb_rating</th>\n",
              "      <th>word_counter</th>\n",
              "      <th>noun_counter</th>\n",
              "      <th>poll_num</th>\n",
              "      <th>ELECTION</th>\n",
              "      <th>VOTE</th>\n",
              "      <th>FUCK</th>\n",
              "      <th>SHIT</th>\n",
              "      <th>TRUST</th>\n",
              "      <th>HELLO</th>\n",
              "      <th>MEXICO</th>\n",
              "      <th>CANADA</th>\n",
              "      <th>JOBS</th>\n",
              "    </tr>\n",
              "  </thead>\n",
              "  <tbody>\n",
              "    <tr>\n",
              "      <th>1</th>\n",
              "      <td>1</td>\n",
              "      <td>2</td>\n",
              "      <td>1997-08-20</td>\n",
              "      <td>Weight Gain 4000</td>\n",
              "      <td>7.9</td>\n",
              "      <td>&lt;__main__.WordCounter object at 0x7f8cdd4fb9e8&gt;</td>\n",
              "      <td>&lt;__main__.NounCounter object at 0x7f8cdd4cb278&gt;</td>\n",
              "      <td>60</td>\n",
              "      <td>0.0</td>\n",
              "      <td>0.0</td>\n",
              "      <td>0.0</td>\n",
              "      <td>0.0</td>\n",
              "      <td>0.0</td>\n",
              "      <td>3.0</td>\n",
              "      <td>0.0</td>\n",
              "      <td>0.0</td>\n",
              "      <td>0.0</td>\n",
              "    </tr>\n",
              "    <tr>\n",
              "      <th>3</th>\n",
              "      <td>1</td>\n",
              "      <td>4</td>\n",
              "      <td>1997-09-03</td>\n",
              "      <td>Big Gay Al's Big Gay Boat Ride</td>\n",
              "      <td>7.8</td>\n",
              "      <td>&lt;__main__.WordCounter object at 0x7f8cdd51c8d0&gt;</td>\n",
              "      <td>&lt;__main__.NounCounter object at 0x7f8cdd56d7b8&gt;</td>\n",
              "      <td>60</td>\n",
              "      <td>0.0</td>\n",
              "      <td>0.0</td>\n",
              "      <td>0.0</td>\n",
              "      <td>0.0</td>\n",
              "      <td>0.0</td>\n",
              "      <td>5.0</td>\n",
              "      <td>0.0</td>\n",
              "      <td>0.0</td>\n",
              "      <td>0.0</td>\n",
              "    </tr>\n",
              "    <tr>\n",
              "      <th>5</th>\n",
              "      <td>1</td>\n",
              "      <td>6</td>\n",
              "      <td>1997-09-17</td>\n",
              "      <td>Death</td>\n",
              "      <td>8.2</td>\n",
              "      <td>&lt;__main__.WordCounter object at 0x7f8cdd45a748&gt;</td>\n",
              "      <td>&lt;__main__.NounCounter object at 0x7f8cdd47acc0&gt;</td>\n",
              "      <td>57</td>\n",
              "      <td>0.0</td>\n",
              "      <td>0.0</td>\n",
              "      <td>1.0</td>\n",
              "      <td>0.0</td>\n",
              "      <td>0.0</td>\n",
              "      <td>1.0</td>\n",
              "      <td>0.0</td>\n",
              "      <td>0.0</td>\n",
              "      <td>0.0</td>\n",
              "    </tr>\n",
              "    <tr>\n",
              "      <th>6</th>\n",
              "      <td>1</td>\n",
              "      <td>7</td>\n",
              "      <td>1997-10-29</td>\n",
              "      <td>Pinkeye</td>\n",
              "      <td>8.5</td>\n",
              "      <td>&lt;__main__.WordCounter object at 0x7f8cdd4831d0&gt;</td>\n",
              "      <td>&lt;__main__.NounCounter object at 0x7f8cdd41c470&gt;</td>\n",
              "      <td>58</td>\n",
              "      <td>0.0</td>\n",
              "      <td>0.0</td>\n",
              "      <td>0.0</td>\n",
              "      <td>2.0</td>\n",
              "      <td>0.0</td>\n",
              "      <td>5.0</td>\n",
              "      <td>0.0</td>\n",
              "      <td>0.0</td>\n",
              "      <td>0.0</td>\n",
              "    </tr>\n",
              "    <tr>\n",
              "      <th>7</th>\n",
              "      <td>1</td>\n",
              "      <td>8</td>\n",
              "      <td>1997-11-19</td>\n",
              "      <td>Starvin' Marvin</td>\n",
              "      <td>8.2</td>\n",
              "      <td>&lt;__main__.WordCounter object at 0x7f8cdd7303c8&gt;</td>\n",
              "      <td>&lt;__main__.NounCounter object at 0x7f8cdd4c09b0&gt;</td>\n",
              "      <td>60</td>\n",
              "      <td>0.0</td>\n",
              "      <td>0.0</td>\n",
              "      <td>0.0</td>\n",
              "      <td>0.0</td>\n",
              "      <td>0.0</td>\n",
              "      <td>3.0</td>\n",
              "      <td>0.0</td>\n",
              "      <td>0.0</td>\n",
              "      <td>0.0</td>\n",
              "    </tr>\n",
              "  </tbody>\n",
              "</table>\n",
              "</div>"
            ],
            "text/plain": [
              "   season  episode    airdate                         ep_name  imdb_rating  \\\n",
              "1       1        2 1997-08-20                Weight Gain 4000          7.9   \n",
              "3       1        4 1997-09-03  Big Gay Al's Big Gay Boat Ride          7.8   \n",
              "5       1        6 1997-09-17                           Death          8.2   \n",
              "6       1        7 1997-10-29                         Pinkeye          8.5   \n",
              "7       1        8 1997-11-19                 Starvin' Marvin          8.2   \n",
              "\n",
              "                                      word_counter  \\\n",
              "1  <__main__.WordCounter object at 0x7f8cdd4fb9e8>   \n",
              "3  <__main__.WordCounter object at 0x7f8cdd51c8d0>   \n",
              "5  <__main__.WordCounter object at 0x7f8cdd45a748>   \n",
              "6  <__main__.WordCounter object at 0x7f8cdd4831d0>   \n",
              "7  <__main__.WordCounter object at 0x7f8cdd7303c8>   \n",
              "\n",
              "                                      noun_counter  poll_num  ELECTION  VOTE  \\\n",
              "1  <__main__.NounCounter object at 0x7f8cdd4cb278>        60       0.0   0.0   \n",
              "3  <__main__.NounCounter object at 0x7f8cdd56d7b8>        60       0.0   0.0   \n",
              "5  <__main__.NounCounter object at 0x7f8cdd47acc0>        57       0.0   0.0   \n",
              "6  <__main__.NounCounter object at 0x7f8cdd41c470>        58       0.0   0.0   \n",
              "7  <__main__.NounCounter object at 0x7f8cdd4c09b0>        60       0.0   0.0   \n",
              "\n",
              "   FUCK  SHIT  TRUST  HELLO  MEXICO  CANADA  JOBS  \n",
              "1   0.0   0.0    0.0    3.0     0.0     0.0   0.0  \n",
              "3   0.0   0.0    0.0    5.0     0.0     0.0   0.0  \n",
              "5   1.0   0.0    0.0    1.0     0.0     0.0   0.0  \n",
              "6   0.0   2.0    0.0    5.0     0.0     0.0   0.0  \n",
              "7   0.0   0.0    0.0    3.0     0.0     0.0   0.0  "
            ]
          },
          "metadata": {
            "tags": []
          },
          "execution_count": 30
        }
      ]
    },
    {
      "metadata": {
        "id": "JlUkhh7Ho_RP",
        "colab_type": "text"
      },
      "cell_type": "markdown",
      "source": [
        "We decided to study South Park due to it being a political satire cartoon, which could influence how its audience perceive certain political issues and presidential candidates. Additionally, since the show is written and produced in only a week, it can better reflect real world events. The graphs below illustrate that the show makes more political references during election years. In particular, the words 'Election' and 'Vote' were mentioned significantly more frequently during the seasons that correspond to election years."
      ]
    },
    {
      "metadata": {
        "id": "YTqzA3P9ctfA",
        "colab_type": "code",
        "colab": {
          "autoexec": {
            "startup": false,
            "wait_interval": 0
          },
          "output_extras": [
            {
              "item_id": 1
            },
            {
              "item_id": 2
            }
          ],
          "base_uri": "https://localhost:8080/",
          "height": 571
        },
        "outputId": "4602f9d6-7423-47a7-a474-62da8dee7e50",
        "executionInfo": {
          "status": "ok",
          "timestamp": 1521779512492,
          "user_tz": 420,
          "elapsed": 744,
          "user": {
            "displayName": "Manav Sahani",
            "photoUrl": "//lh5.googleusercontent.com/-OuY4PVl0W6s/AAAAAAAAAAI/AAAAAAAAAA0/47Nb7lg-NuQ/s50-c-k-no/photo.jpg",
            "userId": "104287893514495967247"
          }
        }
      },
      "cell_type": "code",
      "source": [
        "# number of times the word 'election' is mentioned\n",
        "\n",
        "r = int(randint(10, 90))\n",
        "g = int(randint(10, 90))\n",
        "b = int(randint(10, 90))\n",
        "color = [r*.01, g*.01, b*.01]\n",
        "\n",
        "pres = word_freq.groupby(['season'])[['ELECTION']].sum()\n",
        "pres.plot(xticks = range(0,22), c=color)\n",
        "plt.axvline(x=4, ls = '--', lw = 2, c = 'grey')\n",
        "plt.axvline(x=8, ls = '--', lw = 2, c = 'grey')\n",
        "plt.axvline(x=12, ls = '--', lw = 2, c = 'grey')\n",
        "plt.axvline(x=16, ls = '--', lw = 2, c = 'grey')\n",
        "plt.axvline(x=20, ls = '--', lw = 2, c = 'grey')\n",
        "plt.annotate('2000 Election',xy=(4,15))\n",
        "plt.annotate('2004 Election',xy=(8,15))\n",
        "plt.annotate('2008 Election',xy=(12,15))\n",
        "plt.annotate('2012 Election',xy=(16,15))\n",
        "plt.annotate('2016 Election',xy=(20,15))\n",
        "plt.title('Number of times \"Election\" is mentioned')"
      ],
      "execution_count": 31,
      "outputs": [
        {
          "output_type": "execute_result",
          "data": {
            "text/plain": [
              "Text(0.5,1,'Number of times \"Election\" is mentioned')"
            ]
          },
          "metadata": {
            "tags": []
          },
          "execution_count": 31
        },
        {
          "output_type": "display_data",
          "data": {
            "image/png": "[encoded data removed]",
            "text/plain": [
              "<matplotlib.figure.Figure at 0x7f8cde1e40b8>"
            ]
          },
          "metadata": {
            "tags": []
          }
        }
      ]
    },
    {
      "metadata": {
        "id": "fnwUaZkEzadQ",
        "colab_type": "code",
        "colab": {
          "autoexec": {
            "startup": false,
            "wait_interval": 0
          },
          "output_extras": [
            {
              "item_id": 1
            },
            {
              "item_id": 2
            }
          ],
          "base_uri": "https://localhost:8080/",
          "height": 571
        },
        "outputId": "e597b920-5cd4-48d6-cf02-01b2f709bc2c",
        "executionInfo": {
          "status": "ok",
          "timestamp": 1521779513302,
          "user_tz": 420,
          "elapsed": 734,
          "user": {
            "displayName": "Manav Sahani",
            "photoUrl": "//lh5.googleusercontent.com/-OuY4PVl0W6s/AAAAAAAAAAI/AAAAAAAAAA0/47Nb7lg-NuQ/s50-c-k-no/photo.jpg",
            "userId": "104287893514495967247"
          }
        }
      },
      "cell_type": "code",
      "source": [
        "r = int(randint(10, 90))\n",
        "g = int(randint(10, 90))\n",
        "b = int(randint(10, 90))\n",
        "color = [r*.01, g*.01, b*.01]\n",
        "\n",
        "pres = word_freq.groupby(['season'])[['VOTE']].sum()\n",
        "pres.plot(xticks = range(0,22), c = color)\n",
        "plt.axvline(x=4, ls = '--', lw = 2, c = 'grey')\n",
        "plt.axvline(x=8, ls = '--', lw = 2, c = 'grey')\n",
        "plt.axvline(x=12, ls = '--', lw = 2, c = 'grey')\n",
        "plt.axvline(x=16, ls = '--', lw = 2, c = 'grey')\n",
        "plt.axvline(x=20, ls = '--', lw = 2, c = 'grey')\n",
        "plt.annotate('2000 Election',xy=(4,20))\n",
        "plt.annotate('2004 Election',xy=(8,20))\n",
        "plt.annotate('2008 Election',xy=(12,20))\n",
        "plt.annotate('2012 Election',xy=(16,20))\n",
        "plt.annotate('2016 Election',xy=(20,20))\n",
        "plt.title('Number of times \"Vote\" is mentioned')"
      ],
      "execution_count": 32,
      "outputs": [
        {
          "output_type": "execute_result",
          "data": {
            "text/plain": [
              "Text(0.5,1,'Number of times \"Vote\" is mentioned')"
            ]
          },
          "metadata": {
            "tags": []
          },
          "execution_count": 32
        },
        {
          "output_type": "display_data",
          "data": {
            "image/png": "[encoded data removed]",
            "text/plain": [
              "<matplotlib.figure.Figure at 0x7f8ce218b0b8>"
            ]
          },
          "metadata": {
            "tags": []
          }
        }
      ]
    },
    {
      "metadata": {
        "id": "x4tYIeK7JL1i",
        "colab_type": "text"
      },
      "cell_type": "markdown",
      "source": [
        "South Park is also known for having quite a number of vulgar phrases. Interestingly, the word 'sh*t' seems to drop during election years--there seems to a correlation between the frequency of the word and the election year."
      ]
    },
    {
      "metadata": {
        "id": "BuSTySoJ7gZt",
        "colab_type": "code",
        "colab": {
          "autoexec": {
            "startup": false,
            "wait_interval": 0
          },
          "output_extras": [
            {
              "item_id": 1
            },
            {
              "item_id": 2
            }
          ],
          "base_uri": "https://localhost:8080/",
          "height": 571
        },
        "outputId": "7a1286bc-be3a-4a0b-97e9-be735e86dc13",
        "executionInfo": {
          "status": "ok",
          "timestamp": 1521779514105,
          "user_tz": 420,
          "elapsed": 723,
          "user": {
            "displayName": "Manav Sahani",
            "photoUrl": "//lh5.googleusercontent.com/-OuY4PVl0W6s/AAAAAAAAAAI/AAAAAAAAAA0/47Nb7lg-NuQ/s50-c-k-no/photo.jpg",
            "userId": "104287893514495967247"
          }
        }
      },
      "cell_type": "code",
      "source": [
        "r = int(randint(10, 90))\n",
        "g = int(randint(10, 90))\n",
        "b = int(randint(10, 90))\n",
        "color = [r*.01, g*.01, b*.01]\n",
        "\n",
        "\n",
        "pres = word_freq.groupby(['season'])[['SHIT']].sum()\n",
        "pres.plot(xticks = range(0,22), c= color)\n",
        "plt.axvline(x=4, ls = '--', lw = 2, c = 'grey')\n",
        "plt.axvline(x=8, ls = '--', lw = 2, c = 'grey')\n",
        "plt.axvline(x=12, ls = '--', lw = 2, c = 'grey')\n",
        "plt.axvline(x=16, ls = '--', lw = 2, c = 'grey')\n",
        "plt.axvline(x=20, ls = '--', lw = 2, c = 'grey')\n",
        "plt.annotate('2000 Election',xy=(4,15))\n",
        "plt.annotate('2004 Election',xy=(8,15))\n",
        "plt.annotate('2008 Election',xy=(12,15))\n",
        "plt.annotate('2012 Election',xy=(16,15))\n",
        "plt.annotate('2016 Election',xy=(20,15))\n",
        "plt.title('Number of times \"Sh*t\" is mentioned')"
      ],
      "execution_count": 33,
      "outputs": [
        {
          "output_type": "execute_result",
          "data": {
            "text/plain": [
              "Text(0.5,1,'Number of times \"Sh*t\" is mentioned')"
            ]
          },
          "metadata": {
            "tags": []
          },
          "execution_count": 33
        },
        {
          "output_type": "display_data",
          "data": {
            "image/png": "[encoded data removed]",
            "text/plain": [
              "<matplotlib.figure.Figure at 0x7f8cddcf84a8>"
            ]
          },
          "metadata": {
            "tags": []
          }
        }
      ]
    },
    {
      "metadata": {
        "id": "VLF0WyHbKAlR",
        "colab_type": "text"
      },
      "cell_type": "markdown",
      "source": [
        "America's two bordering countries, Mexico and Canada, are hot sources of debate during election years--especially during the 2016 elections. There seems to be no correlation between each word and the election year. The words increase in frequency in some elections years and dip in others."
      ]
    },
    {
      "metadata": {
        "id": "vyz8RQc79w4x",
        "colab_type": "code",
        "colab": {
          "autoexec": {
            "startup": false,
            "wait_interval": 0
          },
          "output_extras": [
            {
              "item_id": 1
            },
            {
              "item_id": 2
            }
          ],
          "base_uri": "https://localhost:8080/",
          "height": 571
        },
        "outputId": "75965355-f060-4031-9319-55201ac61db2",
        "executionInfo": {
          "status": "ok",
          "timestamp": 1521779514879,
          "user_tz": 420,
          "elapsed": 707,
          "user": {
            "displayName": "Manav Sahani",
            "photoUrl": "//lh5.googleusercontent.com/-OuY4PVl0W6s/AAAAAAAAAAI/AAAAAAAAAA0/47Nb7lg-NuQ/s50-c-k-no/photo.jpg",
            "userId": "104287893514495967247"
          }
        }
      },
      "cell_type": "code",
      "source": [
        "r = int(randint(10, 90))\n",
        "g = int(randint(10, 90))\n",
        "b = int(randint(10, 90))\n",
        "color = [r*.01, g*.01, b*.01]\n",
        "\n",
        "\n",
        "pres = word_freq.groupby(['season'])[['MEXICO']].sum()\n",
        "pres.plot(xticks = range(0,22),  c= color)\n",
        "plt.axvline(x=4, ls = '--', lw = 2, c = 'grey')\n",
        "plt.axvline(x=8, ls = '--', lw = 2, c = 'grey')\n",
        "plt.axvline(x=12, ls = '--', lw = 2, c = 'grey')\n",
        "plt.axvline(x=16, ls = '--', lw = 2, c = 'grey')\n",
        "plt.axvline(x=20, ls = '--', lw = 2, c = 'grey')\n",
        "plt.annotate('2000 Election',xy=(4,2))\n",
        "plt.annotate('2004 Election',xy=(8,2))\n",
        "plt.annotate('2008 Election',xy=(12,2))\n",
        "plt.annotate('2012 Election',xy=(16,2))\n",
        "plt.annotate('2016 Election',xy=(20,2))\n",
        "plt.title('Number of times \"Mexico\" is mentioned')"
      ],
      "execution_count": 34,
      "outputs": [
        {
          "output_type": "execute_result",
          "data": {
            "text/plain": [
              "Text(0.5,1,'Number of times \"Mexico\" is mentioned')"
            ]
          },
          "metadata": {
            "tags": []
          },
          "execution_count": 34
        },
        {
          "output_type": "display_data",
          "data": {
            "image/png": "[encoded data removed]",
            "text/plain": [
              "<matplotlib.figure.Figure at 0x7f8cddd83320>"
            ]
          },
          "metadata": {
            "tags": []
          }
        }
      ]
    },
    {
      "metadata": {
        "id": "TMF2FL_W-t-G",
        "colab_type": "code",
        "colab": {
          "autoexec": {
            "startup": false,
            "wait_interval": 0
          },
          "output_extras": [
            {
              "item_id": 1
            },
            {
              "item_id": 2
            }
          ],
          "base_uri": "https://localhost:8080/",
          "height": 571
        },
        "outputId": "605fd7f3-9a6e-4b03-cd48-60dfe302a857",
        "executionInfo": {
          "status": "ok",
          "timestamp": 1521779515711,
          "user_tz": 420,
          "elapsed": 777,
          "user": {
            "displayName": "Manav Sahani",
            "photoUrl": "//lh5.googleusercontent.com/-OuY4PVl0W6s/AAAAAAAAAAI/AAAAAAAAAA0/47Nb7lg-NuQ/s50-c-k-no/photo.jpg",
            "userId": "104287893514495967247"
          }
        }
      },
      "cell_type": "code",
      "source": [
        "r = int(randint(10, 90))\n",
        "g = int(randint(10, 90))\n",
        "b = int(randint(10, 90))\n",
        "color = [r*.01, g*.01, b*.01]\n",
        "\n",
        "pres = word_freq.groupby(['season'])[['CANADA']].sum()\n",
        "pres.plot(xticks = range(0,22),c= color)\n",
        "plt.axvline(x=4, ls = '--', lw = 2, c = 'grey')\n",
        "plt.axvline(x=8, ls = '--', lw = 2, c = 'grey')\n",
        "plt.axvline(x=12, ls = '--', lw = 2, c = 'grey')\n",
        "plt.axvline(x=16, ls = '--', lw = 2, c = 'grey')\n",
        "plt.axvline(x=20, ls = '--', lw = 2, c = 'grey')\n",
        "plt.annotate('2000 Election',xy=(4,2))\n",
        "plt.annotate('2004 Election',xy=(8,2))\n",
        "plt.annotate('2008 Election',xy=(12,2))\n",
        "plt.annotate('2012 Election',xy=(16,2))\n",
        "plt.annotate('2016 Election',xy=(20,2))\n",
        "plt.title('Number of times \"Canada\" is mentioned')"
      ],
      "execution_count": 35,
      "outputs": [
        {
          "output_type": "execute_result",
          "data": {
            "text/plain": [
              "Text(0.5,1,'Number of times \"Canada\" is mentioned')"
            ]
          },
          "metadata": {
            "tags": []
          },
          "execution_count": 35
        },
        {
          "output_type": "display_data",
          "data": {
            "image/png": "[encoded data removed]",
            "text/plain": [
              "<matplotlib.figure.Figure at 0x7f8cdd3f80b8>"
            ]
          },
          "metadata": {
            "tags": []
          }
        }
      ]
    },
    {
      "metadata": {
        "id": "xg0YoUhqLaND",
        "colab_type": "text"
      },
      "cell_type": "markdown",
      "source": [
        "Jobs, and the job market, are also a great source of debate during Presidential elections. However South Park does not seem to reflect this, as shown by a lack of constant peaks or drops in \"job\" frequency during election years."
      ]
    },
    {
      "metadata": {
        "id": "qO56fspKLW89",
        "colab_type": "code",
        "colab": {
          "autoexec": {
            "startup": false,
            "wait_interval": 0
          },
          "output_extras": [
            {
              "item_id": 1
            },
            {
              "item_id": 2
            }
          ],
          "base_uri": "https://localhost:8080/",
          "height": 571
        },
        "outputId": "12f62761-68c8-456a-e484-739e91bca01b",
        "executionInfo": {
          "status": "ok",
          "timestamp": 1521779516478,
          "user_tz": 420,
          "elapsed": 733,
          "user": {
            "displayName": "Manav Sahani",
            "photoUrl": "//lh5.googleusercontent.com/-OuY4PVl0W6s/AAAAAAAAAAI/AAAAAAAAAA0/47Nb7lg-NuQ/s50-c-k-no/photo.jpg",
            "userId": "104287893514495967247"
          }
        }
      },
      "cell_type": "code",
      "source": [
        "r = int(randint(10, 90))\n",
        "g = int(randint(10, 90))\n",
        "b = int(randint(10, 90))\n",
        "color = [r*.01, g*.01, b*.01]\n",
        "\n",
        "pres = word_freq.groupby(['season'])[['JOBS']].sum()\n",
        "pres.plot(xticks = range(0,22), c= color)\n",
        "plt.axvline(x=4, ls = '--', lw = 2, c = 'grey')\n",
        "plt.axvline(x=8, ls = '--', lw = 2, c = 'grey')\n",
        "plt.axvline(x=12, ls = '--', lw = 2, c = 'grey')\n",
        "plt.axvline(x=16, ls = '--', lw = 2, c = 'grey')\n",
        "plt.axvline(x=20, ls = '--', lw = 2, c = 'grey')\n",
        "plt.annotate('2000 Election',xy=(4,2))\n",
        "plt.annotate('2004 Election',xy=(8,2))\n",
        "plt.annotate('2008 Election',xy=(12,2))\n",
        "plt.annotate('2012 Election',xy=(16,2))\n",
        "plt.annotate('2016 Election',xy=(20,2))\n",
        "plt.title('Number of times \"Jobs\" is mentioned')"
      ],
      "execution_count": 36,
      "outputs": [
        {
          "output_type": "execute_result",
          "data": {
            "text/plain": [
              "Text(0.5,1,'Number of times \"Jobs\" is mentioned')"
            ]
          },
          "metadata": {
            "tags": []
          },
          "execution_count": 36
        },
        {
          "output_type": "display_data",
          "data": {
            "image/png": "[encoded data removed]",
            "text/plain": [
              "<matplotlib.figure.Figure at 0x7f8cdd311710>"
            ]
          },
          "metadata": {
            "tags": []
          }
        }
      ]
    },
    {
      "metadata": {
        "id": "D3k8Oz8hvJHl",
        "colab_type": "text"
      },
      "cell_type": "markdown",
      "source": [
        " ## Regression Analysis (Poll numbers vs. Sentiments)"
      ]
    },
    {
      "metadata": {
        "id": "cOpwdFR_DFl_",
        "colab_type": "text"
      },
      "cell_type": "markdown",
      "source": [
        "Run regression with the whole sentiment analysis dataset"
      ]
    },
    {
      "metadata": {
        "id": "CCcWg-imZ9Jy",
        "colab_type": "code",
        "colab": {
          "autoexec": {
            "startup": false,
            "wait_interval": 0
          },
          "output_extras": [
            {
              "item_id": 1
            },
            {
              "item_id": 2
            }
          ],
          "base_uri": "https://localhost:8080/",
          "height": 993
        },
        "outputId": "fb7f9d94-aafe-4cae-ed9c-2a97afe76b95",
        "executionInfo": {
          "status": "ok",
          "timestamp": 1521779517165,
          "user_tz": 420,
          "elapsed": 635,
          "user": {
            "displayName": "Manav Sahani",
            "photoUrl": "//lh5.googleusercontent.com/-OuY4PVl0W6s/AAAAAAAAAAI/AAAAAAAAAA0/47Nb7lg-NuQ/s50-c-k-no/photo.jpg",
            "userId": "104287893514495967247"
          }
        }
      },
      "cell_type": "code",
      "source": [
        "df_stmt_lol = df_stmt.copy()\n",
        "df_stmt_lol[['poll_num']] = df_stmt_lol[['poll_num']].apply(pd.to_numeric)\n",
        "df_stmt_lol = df_stmt_lol.groupby(['season', 'episode'])[['ratings', 'avg_polarity', 'avg_subjectivity', 'poll_num']].mean().reset_index()\n",
        "df_stmt_lol[['ratings', 'avg_polarity', 'avg_subjectivity', 'poll_num']].plot(linewidth=1)\n",
        "\n",
        "out, pred = patsy.dmatrices('poll_num ~ avg_polarity + avg_subjectivity + ratings', df_stmt_lol)\n",
        "mod = sm.OLS(out, pred)\n",
        "res = mod.fit()\n",
        "print(res.summary())"
      ],
      "execution_count": 37,
      "outputs": [
        {
          "output_type": "stream",
          "text": [
            "                            OLS Regression Results                            \n",
            "==============================================================================\n",
            "Dep. Variable:               poll_num   R-squared:                       0.029\n",
            "Model:                            OLS   Adj. R-squared:                  0.015\n",
            "Method:                 Least Squares   F-statistic:                     2.096\n",
            "Date:                Fri, 23 Mar 2018   Prob (F-statistic):              0.102\n",
            "Time:                        04:31:56   Log-Likelihood:                -849.25\n",
            "No. Observations:                 217   AIC:                             1706.\n",
            "Df Residuals:                     213   BIC:                             1720.\n",
            "Df Model:                           3                                         \n",
            "Covariance Type:            nonrobust                                         \n",
            "====================================================================================\n",
            "                       coef    std err          t      P>|t|      [0.025      0.975]\n",
            "------------------------------------------------------------------------------------\n",
            "Intercept           45.0605     12.720      3.542      0.000      19.987      70.134\n",
            "avg_polarity        58.7135     24.304      2.416      0.017      10.807     106.620\n",
            "avg_subjectivity   -10.6704     19.300     -0.553      0.581     -48.713      27.372\n",
            "ratings              0.6713      1.457      0.461      0.645      -2.201       3.543\n",
            "==============================================================================\n",
            "Omnibus:                        6.284   Durbin-Watson:                   0.192\n",
            "Prob(Omnibus):                  0.043   Jarque-Bera (JB):                6.014\n",
            "Skew:                           0.396   Prob(JB):                       0.0494\n",
            "Kurtosis:                       3.195   Cond. No.                         247.\n",
            "==============================================================================\n",
            "\n",
            "Warnings:\n",
            "[1] Standard Errors assume that the covariance matrix of the errors is correctly specified.\n"
          ],
          "name": "stdout"
        },
        {
          "output_type": "display_data",
          "data": {
            "image/png": "[encoded data removed]",
            "text/plain": [
              "<matplotlib.figure.Figure at 0x7f8cddcec0f0>"
            ]
          },
          "metadata": {
            "tags": []
          }
        }
      ]
    },
    {
      "metadata": {
        "id": "MWNmfL77bfwK",
        "colab_type": "text"
      },
      "cell_type": "markdown",
      "source": [
        "The P-value for avg_polarity is 0.017, which is enough evidence to refute the null hypothesis with a threshold of 0.05, meaning that there is a significant correlation between avg_polarity and poll_num.\n",
        "\n",
        "The coefficient of avg_polarity is 58.7135 ± 24.304, which means that the correlation between avg_polarity and poll_num is positive."
      ]
    },
    {
      "metadata": {
        "id": "jscswWX0L8HA",
        "colab_type": "text"
      },
      "cell_type": "markdown",
      "source": [
        "Scramble and separate data into training set and testing set"
      ]
    },
    {
      "metadata": {
        "id": "u0SIhB2s4UyE",
        "colab_type": "code",
        "colab": {
          "autoexec": {
            "startup": false,
            "wait_interval": 0
          },
          "output_extras": [
            {
              "item_id": 1
            }
          ],
          "base_uri": "https://localhost:8080/",
          "height": 198
        },
        "outputId": "c0ce0e6e-3e85-4192-e68e-8750b48bc1a3",
        "executionInfo": {
          "status": "ok",
          "timestamp": 1521779517481,
          "user_tz": 420,
          "elapsed": 258,
          "user": {
            "displayName": "Manav Sahani",
            "photoUrl": "//lh5.googleusercontent.com/-OuY4PVl0W6s/AAAAAAAAAAI/AAAAAAAAAA0/47Nb7lg-NuQ/s50-c-k-no/photo.jpg",
            "userId": "104287893514495967247"
          }
        }
      },
      "cell_type": "code",
      "source": [
        "df_stmt_scrambled = df_stmt_lol.sample(frac=1).reset_index(drop=True)\n",
        "df_stmt_scrambled.head()"
      ],
      "execution_count": 38,
      "outputs": [
        {
          "output_type": "execute_result",
          "data": {
            "text/html": [
              "<div>\n",
              "<style scoped>\n",
              "    .dataframe tbody tr th:only-of-type {\n",
              "        vertical-align: middle;\n",
              "    }\n",
              "\n",
              "    .dataframe tbody tr th {\n",
              "        vertical-align: top;\n",
              "    }\n",
              "\n",
              "    .dataframe thead th {\n",
              "        text-align: right;\n",
              "    }\n",
              "</style>\n",
              "<table border=\"1\" class=\"dataframe\">\n",
              "  <thead>\n",
              "    <tr style=\"text-align: right;\">\n",
              "      <th></th>\n",
              "      <th>season</th>\n",
              "      <th>episode</th>\n",
              "      <th>ratings</th>\n",
              "      <th>avg_polarity</th>\n",
              "      <th>avg_subjectivity</th>\n",
              "      <th>poll_num</th>\n",
              "    </tr>\n",
              "  </thead>\n",
              "  <tbody>\n",
              "    <tr>\n",
              "      <th>0</th>\n",
              "      <td>20</td>\n",
              "      <td>10</td>\n",
              "      <td>7.0</td>\n",
              "      <td>0.028028</td>\n",
              "      <td>0.189083</td>\n",
              "      <td>56</td>\n",
              "    </tr>\n",
              "    <tr>\n",
              "      <th>1</th>\n",
              "      <td>14</td>\n",
              "      <td>6</td>\n",
              "      <td>8.7</td>\n",
              "      <td>0.012432</td>\n",
              "      <td>0.189700</td>\n",
              "      <td>50</td>\n",
              "    </tr>\n",
              "    <tr>\n",
              "      <th>2</th>\n",
              "      <td>16</td>\n",
              "      <td>2</td>\n",
              "      <td>7.9</td>\n",
              "      <td>0.014686</td>\n",
              "      <td>0.224683</td>\n",
              "      <td>47</td>\n",
              "    </tr>\n",
              "    <tr>\n",
              "      <th>3</th>\n",
              "      <td>21</td>\n",
              "      <td>1</td>\n",
              "      <td>6.7</td>\n",
              "      <td>0.035538</td>\n",
              "      <td>0.186320</td>\n",
              "      <td>38</td>\n",
              "    </tr>\n",
              "    <tr>\n",
              "      <th>4</th>\n",
              "      <td>4</td>\n",
              "      <td>4</td>\n",
              "      <td>7.5</td>\n",
              "      <td>0.034860</td>\n",
              "      <td>0.182371</td>\n",
              "      <td>58</td>\n",
              "    </tr>\n",
              "  </tbody>\n",
              "</table>\n",
              "</div>"
            ],
            "text/plain": [
              "   season  episode  ratings  avg_polarity  avg_subjectivity  poll_num\n",
              "0      20       10      7.0      0.028028          0.189083        56\n",
              "1      14        6      8.7      0.012432          0.189700        50\n",
              "2      16        2      7.9      0.014686          0.224683        47\n",
              "3      21        1      6.7      0.035538          0.186320        38\n",
              "4       4        4      7.5      0.034860          0.182371        58"
            ]
          },
          "metadata": {
            "tags": []
          },
          "execution_count": 38
        }
      ]
    },
    {
      "metadata": {
        "id": "bgP3ybRK5GHJ",
        "colab_type": "code",
        "colab": {
          "autoexec": {
            "startup": false,
            "wait_interval": 0
          }
        }
      },
      "cell_type": "code",
      "source": [
        "num_training = int(len(df_stmt_scrambled)*0.8)\n",
        "num_testing = int(len(df_stmt_scrambled)*0.2)\n",
        "\n",
        "stmt_train = df_stmt_scrambled[:num_training]\n",
        "stmt_test = df_stmt_scrambled[num_training:]"
      ],
      "execution_count": 0,
      "outputs": []
    },
    {
      "metadata": {
        "id": "SdGJxbnSMGRh",
        "colab_type": "text"
      },
      "cell_type": "markdown",
      "source": [
        "Fit model with training data"
      ]
    },
    {
      "metadata": {
        "id": "Reisqtje66kr",
        "colab_type": "code",
        "colab": {
          "autoexec": {
            "startup": false,
            "wait_interval": 0
          },
          "output_extras": [
            {
              "item_id": 1
            }
          ],
          "base_uri": "https://localhost:8080/",
          "height": 497
        },
        "outputId": "6d8d4615-1c06-4c99-816c-70fc130daf65",
        "executionInfo": {
          "status": "ok",
          "timestamp": 1521779518265,
          "user_tz": 420,
          "elapsed": 269,
          "user": {
            "displayName": "Manav Sahani",
            "photoUrl": "//lh5.googleusercontent.com/-OuY4PVl0W6s/AAAAAAAAAAI/AAAAAAAAAA0/47Nb7lg-NuQ/s50-c-k-no/photo.jpg",
            "userId": "104287893514495967247"
          }
        }
      },
      "cell_type": "code",
      "source": [
        "out_train, pred_train = patsy.dmatrices('poll_num ~ ratings + avg_polarity + avg_subjectivity', stmt_train)\n",
        "mod_train = sm.OLS(out_train, pred_train)\n",
        "res_train = mod_train.fit()\n",
        "print(res_train.summary())"
      ],
      "execution_count": 40,
      "outputs": [
        {
          "output_type": "stream",
          "text": [
            "                            OLS Regression Results                            \n",
            "==============================================================================\n",
            "Dep. Variable:               poll_num   R-squared:                       0.025\n",
            "Model:                            OLS   Adj. R-squared:                  0.008\n",
            "Method:                 Least Squares   F-statistic:                     1.443\n",
            "Date:                Fri, 23 Mar 2018   Prob (F-statistic):              0.232\n",
            "Time:                        04:31:58   Log-Likelihood:                -674.88\n",
            "No. Observations:                 173   AIC:                             1358.\n",
            "Df Residuals:                     169   BIC:                             1370.\n",
            "Df Model:                           3                                         \n",
            "Covariance Type:            nonrobust                                         \n",
            "====================================================================================\n",
            "                       coef    std err          t      P>|t|      [0.025      0.975]\n",
            "------------------------------------------------------------------------------------\n",
            "Intercept           44.1532     13.643      3.236      0.001      17.220      71.087\n",
            "ratings              0.9728      1.563      0.622      0.535      -2.113       4.058\n",
            "avg_polarity        48.0892     26.004      1.849      0.066      -3.245      99.423\n",
            "avg_subjectivity   -15.1646     20.420     -0.743      0.459     -55.475      25.146\n",
            "==============================================================================\n",
            "Omnibus:                        2.976   Durbin-Watson:                   2.121\n",
            "Prob(Omnibus):                  0.226   Jarque-Bera (JB):                2.891\n",
            "Skew:                           0.315   Prob(JB):                        0.236\n",
            "Kurtosis:                       2.941   Cond. No.                         238.\n",
            "==============================================================================\n",
            "\n",
            "Warnings:\n",
            "[1] Standard Errors assume that the covariance matrix of the errors is correctly specified.\n"
          ],
          "name": "stdout"
        }
      ]
    },
    {
      "metadata": {
        "id": "QM4QZULtMKEN",
        "colab_type": "text"
      },
      "cell_type": "markdown",
      "source": [
        "Make predictions of the testing data with the trained model and find root mean squared error"
      ]
    },
    {
      "metadata": {
        "id": "kseGVhe37eZA",
        "colab_type": "code",
        "colab": {
          "autoexec": {
            "startup": false,
            "wait_interval": 0
          },
          "output_extras": [
            {
              "item_id": 1
            }
          ],
          "base_uri": "https://localhost:8080/",
          "height": 34
        },
        "outputId": "27a97034-3f1b-430a-a05a-f13fd4b1a264",
        "executionInfo": {
          "status": "ok",
          "timestamp": 1521779518657,
          "user_tz": 420,
          "elapsed": 268,
          "user": {
            "displayName": "Manav Sahani",
            "photoUrl": "//lh5.googleusercontent.com/-OuY4PVl0W6s/AAAAAAAAAAI/AAAAAAAAAA0/47Nb7lg-NuQ/s50-c-k-no/photo.jpg",
            "userId": "104287893514495967247"
          }
        }
      },
      "cell_type": "code",
      "source": [
        "out_test, pred_test = patsy.dmatrices('poll_num ~ ratings + avg_polarity + avg_subjectivity', stmt_test)\n",
        "result_test = res_train.predict(pred_test)\n",
        "\n",
        "err = np.concatenate(np.asarray(out_test))-result_test\n",
        "rmse = np.sqrt(np.mean(np.square(err)))\n",
        "print(\"Root mean squared error =\", rmse)"
      ],
      "execution_count": 41,
      "outputs": [
        {
          "output_type": "stream",
          "text": [
            "Root mean squared error = 12.750560540162665\n"
          ],
          "name": "stdout"
        }
      ]
    },
    {
      "metadata": {
        "id": "-icRo7YrVCBq",
        "colab_type": "text"
      },
      "cell_type": "markdown",
      "source": [
        "##Regression Analysis (Poll numbers vs. Word frequency)"
      ]
    },
    {
      "metadata": {
        "id": "37Mr_A9mc4Si",
        "colab_type": "code",
        "colab": {
          "autoexec": {
            "startup": false,
            "wait_interval": 0
          },
          "output_extras": [
            {
              "item_id": 1
            }
          ],
          "base_uri": "https://localhost:8080/",
          "height": 550
        },
        "outputId": "1ab6656d-e46e-467b-a270-a7e143f76ac5",
        "executionInfo": {
          "status": "ok",
          "timestamp": 1521779519031,
          "user_tz": 420,
          "elapsed": 270,
          "user": {
            "displayName": "Manav Sahani",
            "photoUrl": "//lh5.googleusercontent.com/-OuY4PVl0W6s/AAAAAAAAAAI/AAAAAAAAAA0/47Nb7lg-NuQ/s50-c-k-no/photo.jpg",
            "userId": "104287893514495967247"
          }
        }
      },
      "cell_type": "code",
      "source": [
        "out, pred = patsy.dmatrices('poll_num ~ ELECTION + VOTE + SHIT + MEXICO + CANADA + JOBS', word_freq)\n",
        "mod = sm.OLS(out, pred)\n",
        "res = mod.fit()\n",
        "print(res.summary())"
      ],
      "execution_count": 42,
      "outputs": [
        {
          "output_type": "stream",
          "text": [
            "                            OLS Regression Results                            \n",
            "==============================================================================\n",
            "Dep. Variable:               poll_num   R-squared:                       0.037\n",
            "Model:                            OLS   Adj. R-squared:                  0.010\n",
            "Method:                 Least Squares   F-statistic:                     1.353\n",
            "Date:                Fri, 23 Mar 2018   Prob (F-statistic):              0.235\n",
            "Time:                        04:31:58   Log-Likelihood:                -852.42\n",
            "No. Observations:                 218   AIC:                             1719.\n",
            "Df Residuals:                     211   BIC:                             1743.\n",
            "Df Model:                           6                                         \n",
            "Covariance Type:            nonrobust                                         \n",
            "==============================================================================\n",
            "                 coef    std err          t      P>|t|      [0.025      0.975]\n",
            "------------------------------------------------------------------------------\n",
            "Intercept     51.7437      0.978     52.933      0.000      49.817      53.671\n",
            "ELECTION      -0.1149      0.693     -0.166      0.868      -1.481       1.251\n",
            "VOTE          -0.0714      0.484     -0.147      0.883      -1.025       0.883\n",
            "SHIT          -0.6910      0.269     -2.570      0.011      -1.221      -0.161\n",
            "MEXICO        -0.8225      1.093     -0.753      0.452      -2.976       1.331\n",
            "CANADA         0.1409      0.166      0.850      0.396      -0.186       0.468\n",
            "JOBS          -0.2041      0.411     -0.496      0.620      -1.015       0.607\n",
            "==============================================================================\n",
            "Omnibus:                        6.508   Durbin-Watson:                   0.198\n",
            "Prob(Omnibus):                  0.039   Jarque-Bera (JB):                6.242\n",
            "Skew:                           0.401   Prob(JB):                       0.0441\n",
            "Kurtosis:                       3.208   Cond. No.                         7.07\n",
            "==============================================================================\n",
            "\n",
            "Warnings:\n",
            "[1] Standard Errors assume that the covariance matrix of the errors is correctly specified.\n"
          ],
          "name": "stdout"
        }
      ]
    },
    {
      "metadata": {
        "id": "uH-SRo2BNJ3I",
        "colab_type": "text"
      },
      "cell_type": "markdown",
      "source": [
        "Sh\\*t is the only word that is statistically significant (at 5% level) to explain the variation in poll numbers, with a p-value of 0.011. The negative coefficient indicates that when sh\\*t is mentioned frequently, it negatively affects the poll numbers."
      ]
    },
    {
      "metadata": {
        "id": "31A6-0uSC_nT",
        "colab_type": "text"
      },
      "cell_type": "markdown",
      "source": [
        "# **Privacy/Ethics considerations :**\n",
        "\n",
        "Using a 'script' from a popular TV show for research purposes in a machine learning algorithm is allowed within the 'fair use' description of copyright. It is our understanding that the following descriptions place the usage described within 'fair use':\n",
        "\n",
        "Amount and substantiality of the portion used in relation to the copyrighted work as a whole.\n",
        "\n",
        "Since we are using the script, not the video and audio, to test our hypothesis, and we are also not reproducing it for our audience, our research is protected under fair use.\n",
        "\n",
        "Effect of the use upon the potential market for or value of the copyrighted work :\n",
        "\n",
        "Using a script to test our hypothesis would have virtually no effect on the 'potential market or value of copyrighted work'. Section 107 of the Copyright Act provides the statutory framework for determining whether something is a fair use and identifies certain types of uses—such as criticism, comment, news reporting, teaching, scholarship, and research—as examples of activities that may qualify as fair use.\n",
        "\n"
      ]
    },
    {
      "metadata": {
        "id": "IgFlZjyJBlq2",
        "colab_type": "text"
      },
      "cell_type": "markdown",
      "source": [
        "# **Conclusion, Discussion, and Future Work:**"
      ]
    },
    {
      "metadata": {
        "id": "M34vJu77GDZ3",
        "colab_type": "text"
      },
      "cell_type": "markdown",
      "source": [
        "## Conclusion\n",
        "We tested the hypothesis by analyzing different features of a South Park episode. Because politics often depend on sentiments on a small set of topics, we decided to apply sentiment and word frequency analysis on South Park--specifically South Park scripts. In the real world, sentiments of political parties, and by extension the party's stances on political ideas, are reflected by poll data: Democrat/Republican party approval ratings, Presidential job approval ratings, and Presidential candidate approval ratings. We collected and cleaned the Presidential job approval poll data for each week from 1997 till present (Clinton to Trump administrations), and then used our two features to see if there are any trends.\n",
        "\n",
        "A preliminary graphing of the sentiment data shows that all characters were fairly neutral and even leaned towards positive sentiments rather than negative sentiments. This is surprising, because characters such as Eric Cartman or Mr. Herber Garrison are known for their negative sentiments on the show, and yet seemed neutral or positive. For the sentiment analysis, we compared the average sentiment of a character for each episode versus the Presidential job approval ratings of the following week. \n",
        "\n",
        "A precursor examination of the word frequency data revealed that certain words tended to peak or drop in frequency during election years. Words such as 'election' and 'vote' peaked during these years while, surprisingly, the word 'sh\\*t' dropped during the same years. These intial findings were as expected because, as a political cartoon, it is reasonable for it to talk about and explore voting and election sentiments as well as results. For the word frequency analysis, we compared the frequency of a list of words consisting of hotly debated topics (e.g. 'Mexico', 'jobs', and 'vote') per episode versus the Presidential job approval ratings of the next week.\n",
        "\n",
        "We used regression analysis on both the sentiment analysis dataset and the word frequency dataset. On the sentiment analysis dataset, we found significant positive correlation between the overall sentiment of the show and the poll data. While this is only a correlation, we can still make predictions of the weekly poll data corresponding to an episode given the sentiment value of the episode. We scrambled our data and used 80% of the data for training a prediction model and 20% for testing. The resulted mean squared error is relatively small when taking into consideration the scale of poll data. On the word frequency data, we picked out certain words that we thought would correlate with public political sentiment and ran another regression analysis. We discovered the word 'sh\\*t' surprisingly has a significant negative correlation with the poll numbers. One could theorize that this correlation is due to the negative connotation of this taboo word--the more someone says it, the more negative the overall sentiment is. \n",
        "\n",
        "## Discussion\n",
        "There are potential biases in the data since dialogues of TV shows are written by screenwriters of those TV shows; the dialogues might reflect the political leaning of the writers and the tone of the shows. However, a point can be made that shows like South Park tend to poke fun at both sides of the political spectrum, therefore giving plenty of data (both positive and negative) on each candidate for us to work with. Since our topic concerns politics, there will always be biases, but political biases are in fact what we are trying to study here, as we want to examine the political impact of satire TV shows and how they bias people's feelings about certain political figure or ideology. Therefore, biases in dialogues are not big issues here. Other data we use in this research are poll numbers. Different institutions do polls and often get different numbers throughout the years. Poll numbers might not be an accurate representation of popularity. For example, in the 2016 election, Donald Trump won over Hillary Clinton despite poll numbers favoring Clinton. To mitigate this effect we take the average of different polls to best reflect actual feelings of voters.\n",
        "\n",
        "As a result of the specific datasets we gathered for analysis, there may also be several other confounding factors. A TV show isn't only composed of lines of scripts; there are visual and audio elements. Screentime, characters' actions on-screen, and even background music can affect the audience. However, analyzing these elements would require more advanced techniques, such as image recognition, entity recognition, and audio interpreters. Moreover, certain weeks are missing in the poll data scaped from UCSB, but are complete in other closed datasets. If given access to these processed data, then our analysis and conclusions will be more complete.\n",
        "\n",
        "## Did It Work?\n",
        "After visualizing our dataset, and looking at the results of our prediction model, we concluded that our hypothesis seems to be true about the positive correlation between the displayed political sentiments in television shows, and the political climate in America. In other words, the 21st century trend of different forms of media affecting voting continues. Just like social media (Facebook) affected voting, and people's perception by creatiing echo chambers, it is possible that different forms of media (television shows in this case) have an impact on our sentiments towards a political candidate!\n",
        "\n",
        "## Future Work\n",
        "Our work can act as the starting point for further research on causation. There needs to be an experiment formed that uses double dissociation to test whether this correlation is a causation, or not. These experiements need to be controlled for which TV shows they watch as well as their political inclinations. From these experiements, we can determine if TV shows do shape America's political climate and prove a causation relationship.\n",
        "\n",
        "Moreover, our work can be expanded to other TV shows, like The Simpsons, King of the Hill, Family Guy, Rick and Morty, etc. Although these shows many not be political in nature, they do encompass political topics since these shows do tend to reflect popular culture.\n",
        "\n",
        "If TV shows do turn out affect politics, this will be a groundbreaking discovery, and can change the extent and dimention to which advertising and marketing can reach. Soon, it can lead to South Park as well as other TV shows having sponsors that are paying, or rather bribing, the script writers in millions just to display a positive sentiment towards their candidate and political party to improve public perception."
      ]
    }
  ]
}